{
 "cells": [
  {
   "cell_type": "markdown",
   "metadata": {},
   "source": [
    "# Transform all the vectors\n",
    "\n",
    "This is the first lesson in the learning module titled **\"Land on Vectors Spaces\"**, teaching practical linear algebra with Python. We take a visual and intuitive approach to illuminate some of the core ideas in linear algebra, enabled by computing. \n",
    "\n",
    "Linear algebra is a surprisingly useful subject, at the heart of computer graphics, cryptography, and machine learning. It is applied in data compression, game theory, and understanding networks. Engineering applications of linear algebra are everywhere: electric circuits, statics and dynamics, digital signal processing, optimization, robotics, multi-body dynamics… you name it!\n",
    "\n",
    "Whether you missed out on taking a college linear algebra course, or you did so a long time ago and need a refresher, this learning module can be your launching pad to the wonderful world of _vector spaces_.\n",
    "\n",
    "Let's get started! We will be using our favorite libraries of the Python ecosystem: NumPy and Matplotlib. We also have a few helper functions in the `plot_helper.py` script, which will make it easy to visualize the ideas in these lessons. \n",
    "Go ahead and load these by executing the next two cells."
   ]
  },
  {
   "cell_type": "code",
   "execution_count": null,
   "metadata": {},
   "outputs": [],
   "source": [
    "import numpy\n",
    "%matplotlib inline\n",
    "from matplotlib import pyplot"
   ]
  },
  {
   "cell_type": "code",
   "execution_count": null,
   "metadata": {},
   "outputs": [],
   "source": [
    "import sys\n",
    "sys.path.append('../scripts/')\n",
    "\n",
    "# Our helper, with the functions: \n",
    "# plot_vector, plot_linear_transformation, plot_linear_transformations\n",
    "from plot_helper import *"
   ]
  },
  {
   "cell_type": "markdown",
   "metadata": {},
   "source": [
    "## What's a vector?\n",
    "\n",
    "Vectors are everywhere: physics, engineering, mathematics, computer science, video games, and more. Each field's interpretation of what a vector *is* may be different, but  vectors live a similar life in every space.\n",
    "\n",
    "The first episode in the wonderful video series, [_\"Essence of Linear Algebra\"_](http://3b1b.co/eola) tells you of three different ideas about vectors [1]:\n",
    "\n",
    "1. For physicists, a vector is an \"arrow\" of a given length (magnitude) and direction. It can represent directional quantities like velocity, force, acceleration.\n",
    "2. For computer scientists, a vector is an ordered list of numbers. It can represent a set of variables or features stored in order.\n",
    "3. For mathematicians, vectors are generic objects that behave a certain way when they are added or scaled:  $\\mathbf{u}+\\mathbf{v}$, $\\alpha\\mathbf{v}$.\n",
    "\n",
    "<img src=\"../images/whatsavector.png\" style=\"width: 500px;\"/> \n",
    "#### How you think of a vector depends on who you are..."
   ]
  },
  {
   "cell_type": "markdown",
   "metadata": {},
   "source": [
    "In physics, vectors are almost always two- or three-dimensional (although in some fancy branches of physics they do go to higher dimensions). Vectors help physicists describe things like motion and electro-magnetic fields on a plane or in physical 3D space.\n",
    "\n",
    "In computer science and in data science, vectors are often multi-dimensional, that is, they have many components. They contain a set of ordered variables in a data model, like for example: the age, weight, daily hours of sleep, weekly hours of exercise, and blood pressure of an individual (five dimensions).\n",
    "\n",
    "Let's start with the idea of a vector as an \"arrow\" (magnitude plus direction). We visualize a vector by placing this arrow with its tail at the origin of a coordinate system.\n",
    "But changing the position of the tail doesn't change the vector's magnitude or direction, so the vector is the same no matter where we draw it. \n",
    "\n",
    "In the code cell below, we define a list with a single vector of coordinates $(2, 2)$, and we use our custom function `plot_vector()` to plot the vector with its tail at four different positions on a 2D coordinate system. "
   ]
  },
  {
   "cell_type": "code",
   "execution_count": null,
   "metadata": {
    "scrolled": false
   },
   "outputs": [],
   "source": [
    "vectors = [(2,2)]\n",
    "tails = [(-3,-2), (-3,1), (0,0), (1,-3)]\n",
    "plot_vector(vectors, tails)\n",
    "pyplot.title(\"The same vector, with its tail at four locations.\");"
   ]
  },
  {
   "cell_type": "markdown",
   "metadata": {},
   "source": [
    "In the 2D plane, we can see clearly the connection between the \"arrow\" idea of vector, and the \"list of numbers,\" which in this case represents the coordinates of the arrow head when the tail is at the origin of the coordinate system.\n",
    "\n",
    "The first coordinate designates the horizontal distance between head and tail, and the second coordinate designates the vertical distance between head and tail. We typically will denote horizontal and vertical axes as $x$ and $y$.\n",
    "\n",
    "In three dimensions, $x$ and $y$ are usually denoting the perpendicular axes on the horizontal plane, and the vertical axis is denoted by $z$. A 3D vector thus has three components: $(x, y, z)$."
   ]
  },
  {
   "cell_type": "markdown",
   "metadata": {},
   "source": [
    "##### Note:\n",
    "\n",
    "Our helper function `plot_vector()` takes two lists as arguments: a list of vectors, and a list of tails (optional). It can plot one vector with its tail on several locations, or several vectors with their tail at one location. It can also plot several vectors with their tails at different locations, but in that case, the two lists have to match in length (if they don't, the function will give an error).\n",
    "\n",
    "##### Try it!\n",
    "\n",
    "In a new code cell, create a list of vectors (either as tuples of coordinates, or as NumPy arrays), and plot them. The default tail position is the origin. Then create a list of tail positions, and plot the same vectors again at these positions."
   ]
  },
  {
   "cell_type": "markdown",
   "metadata": {},
   "source": [
    "## Fundamental vector operations\n",
    "\n",
    "Two operations are the foundation of everything: **vector addition**, and **multiplication by a scalar** (i.e., scaling).\n",
    "\n",
    "Let's first visualize vector addition. Suppose we have two vectors: \n",
    "\n",
    "$$\n",
    "   \\mathbf{a} = \\left[ \\begin{array}{c} -2 \\\\ 1  \\end{array} \\right], \\quad  \n",
    "   \\mathbf{b} = \\left[ \\begin{array}{c} 1 \\\\ -3  \\end{array} \\right] \n",
    "$$\n",
    "\n",
    "We can visualize vector addition as follows: draw vector $\\mathbf{a}$ with its tail at the origin; then draw vector $\\mathbf{b}$ with its tail on the head of $\\mathbf{a}$. If you now draw a vector from the origin to the head of $\\mathbf{b}$, that vector is $\\mathbf{a} + \\mathbf{b}$.\n",
    "\n",
    "With our helper function for plotting 2D vectors, it looks like this:"
   ]
  },
  {
   "cell_type": "code",
   "execution_count": null,
   "metadata": {},
   "outputs": [],
   "source": [
    "# vector addition\n",
    "a = numpy.array((-2,1))\n",
    "b = numpy.array((1,-3))\n",
    "origin = numpy.array((0,0))\n",
    "\n",
    "vectors = [a, b, a+b]\n",
    "tails   = [origin, a, origin]\n",
    "plot_vector(vectors, tails)\n",
    "pyplot.title(\"Adding vectors with coordinates $(-2, 1)$ and $(1,-3)$.\\n\");"
   ]
  },
  {
   "cell_type": "markdown",
   "metadata": {},
   "source": [
    "In this visualization of vector addition, the head of $\\mathbf{a} + \\mathbf{b}$ ends up at the coordinates  resulting from adding the tail-to-head horizontal and vertical distances of $\\mathbf{a}$ and $\\mathbf{b}$. In other words, from adding the respective coordinates:\n",
    "\n",
    "$$\n",
    "   \\left[ \\begin{array}{c} -2 \\\\ 1  \\end{array} \\right] +  \n",
    "   \\left[ \\begin{array}{c} 1 \\\\ -3  \\end{array} \\right] =\n",
    "   \\left[ \\begin{array}{c} -2+1 \\\\ 1-3  \\end{array} \\right]\n",
    "$$\n"
   ]
  },
  {
   "cell_type": "markdown",
   "metadata": {},
   "source": [
    "Let's now look at multiplication by a scalar: essentially, the length of the vector is *scaled* by the scalar factor. If you multiply a vector by $2$, its length (magnitude) doubles. \n",
    "\n",
    "For example, if we scale by $2$ the vector $\\mathbf{c} = \\left[ \\begin{array}{c} 2 \\\\ 1  \\end{array} \\right]$, it looks like this:"
   ]
  },
  {
   "cell_type": "code",
   "execution_count": null,
   "metadata": {},
   "outputs": [],
   "source": [
    "# vector scaling\n",
    "c = numpy.array((2,1))\n",
    "vectors = [c, 2*c]\n",
    "plot_vector(vectors)\n",
    "pyplot.title(\"Scaling of the vector $(2,1)$ by the scalar $2$.\");"
   ]
  },
  {
   "cell_type": "markdown",
   "metadata": {},
   "source": [
    "The head of the vector $2\\mathbf{c}$ ends up at the coordinates resulting from scaling the tail-to-head horizontal and vertical distances of $\\mathbf{c}$:\n",
    "\n",
    "$$\n",
    "  2\\cdot\\left[ \\begin{array}{c} 2 \\\\ 1  \\end{array} \\right] =\n",
    "  \\left[ \\begin{array}{c} 2\\cdot 2 \\\\ 2\\cdot 1  \\end{array} \\right]\n",
    "$$"
   ]
  },
  {
   "cell_type": "markdown",
   "metadata": {},
   "source": [
    "## Basis vectors\n",
    "\n",
    "With the ideas of vector addition and multiplication by a scalar fresh in your mind, now imagine this. Any horizontal vector (i.e., having zero as its second component) can be scaled to have length $1$. \n",
    "\n",
    "For example, the vector $\\,\\mathbf{u} = \\left[ \\begin{array}{c} u \\\\ 0  \\end{array} \\right]$ scaled by $1/u$ becomes $\\left[ \\begin{array}{c} 1 \\\\ 0  \\end{array} \\right]$.\n",
    "\n",
    "Similarly, any vertical vector (having zero as its first component) can be scaled to have length $1$.\n",
    "\n",
    "Going the opposite way, \n",
    "- scaling the vector $\\,\\mathbf{i}=\\left[ \\begin{array}{c} 1 \\\\ 0  \\end{array} \\right]$ can give us all possible horizontal vectors, and \n",
    "- scaling the vector $\\,\\mathbf{j}=\\left[ \\begin{array}{c} 0 \\\\ 1  \\end{array} \\right]$ can give us all possible vertical vectors. \n",
    "\n",
    "Since every vector is the sum of a horizontal and a vertical one, it means we can generate *all vectors* by adding scaled versions of $\\mathbf{i}$ and $\\mathbf{j}$. That's why they are called **basis vectors**.\n",
    "\n",
    "For any vector, its components are the scalars we need to multiply the basis vectors by to generate it. For example:\n",
    "\n",
    "$$\n",
    " \\left[ \\begin{array}{c} 3 \\\\ 2  \\end{array} \\right] =\n",
    " 3\\cdot\\left[ \\begin{array}{c} 1 \\\\ 0  \\end{array} \\right] +\n",
    " 2\\cdot\\left[ \\begin{array}{c} 0 \\\\ 1  \\end{array} \\right] =\n",
    " 3\\,\\mathbf{i} + 2\\,\\mathbf{j}\n",
    "$$\n",
    "\n",
    "Let's visualize this using our helper function."
   ]
  },
  {
   "cell_type": "code",
   "execution_count": null,
   "metadata": {},
   "outputs": [],
   "source": [
    "# basis vector\n",
    "i = numpy.array((1,0))\n",
    "j = numpy.array((0,1))\n",
    "\n",
    "vec = 3*i + 2*j\n",
    "vectors = [i, j, 3*i, 2*j, vec]\n",
    "plot_vector(vectors)\n",
    "pyplot.title(\"The vector $(3,2)$ as a linear combination of the basis vectors.\");"
   ]
  },
  {
   "cell_type": "markdown",
   "metadata": {},
   "source": [
    "## Linear combination and span\n",
    "\n",
    "Adding two vectors that were each multiplied by a scalar is called a **linear combination** of those two vectors. Thus, we say that every vector is some linear combination of the basis vectors.\n",
    "\n",
    "This brings us to the idea of the **span** of two vectors: the set of all possible linear combinations of the two. The second episode of the series [_\"Essence of Linear Algebra\"_](http://3b1b.co/eola) uses rich visuals to bring these ideas to life [2]. Recommended!\n",
    "\n",
    "\n",
    "In the code cells below, we will use the NumPy function [`randint`](https://docs.scipy.org/doc/numpy-1.15.0/reference/generated/numpy.random.randint.html) to get random integers in an interval (in this case, from $-10$ to $10$). We then create a list of 30 random vectors on the plane via a linear combination of the basis vectors $\\mathbf{i}$ and $\\mathbf{j}$, and we draw them all.  "
   ]
  },
  {
   "cell_type": "code",
   "execution_count": null,
   "metadata": {},
   "outputs": [],
   "source": [
    "from numpy.random import randint"
   ]
  },
  {
   "cell_type": "code",
   "execution_count": null,
   "metadata": {},
   "outputs": [],
   "source": [
    "# span\n",
    "vectors = []\n",
    "i = numpy.array((1,0))\n",
    "j = numpy.array((0,1))\n",
    "\n",
    "for _ in range(30):\n",
    "    m = randint(-10,10)\n",
    "    n = randint(-10,10)\n",
    "    vectors.append(m*i + n*j)\n",
    "    \n",
    "plot_vector(vectors)\n",
    "pyplot.title(\"Thirty random vectors, created from the basis vectors\");"
   ]
  },
  {
   "cell_type": "markdown",
   "metadata": {},
   "source": [
    "You can imagine that if we created more and more random vectors in this way, eventually we will fill up the 2D plane. Indeed, the *span* of the basis vectors is the whole 2D space. \n",
    "\n",
    "What if we tried the same experiment, but making linear combinations of the vectors $\\mathbf{a}$ and $\\mathbf{b}$, defined above?"
   ]
  },
  {
   "cell_type": "code",
   "execution_count": null,
   "metadata": {},
   "outputs": [],
   "source": [
    "vectors = []\n",
    "for _ in range(30):\n",
    "    m = randint(-10,10)\n",
    "    n = randint(-10,10)\n",
    "    vectors.append(m*a + n*b)\n",
    "    \n",
    "plot_vector(vectors)\n",
    "pyplot.title(\"Thirty random vectors, created as linear combinations of $\\mathbf{a}$ and $\\mathbf{b}$.\");"
   ]
  },
  {
   "cell_type": "markdown",
   "metadata": {},
   "source": [
    "In fact, we can *still* fill up the whole plane with infinite linear combinations of $\\mathbf{a}$ and $\\mathbf{b}$—they span the full 2D space. We're not forced to use the unit vectors $\\mathbf{i}$ and $\\mathbf{j}$ as our basis vectors: other pairs of vectors could form a basis. With $\\mathbf{i}$ and $\\mathbf{j}$, we saw that the components of a vector $\\mathbf{v}$ are the scalars needed in its corresponding linear combination of the basis vectors. If we were to use another pair of vectors as basis, we would need a different pair of scalars in the linear combination to get the same vector: we are _changing the coordinate system_.\n",
    "\n",
    "Let's see another situation... we'll make linear combinations of the vector $\\mathbf{a}$, and a new vector, $\\mathbf{d} = \\left[ \\begin{array}{c} -1 \\\\ 0.5  \\end{array} \\right]$,"
   ]
  },
  {
   "cell_type": "code",
   "execution_count": null,
   "metadata": {},
   "outputs": [],
   "source": [
    "d = numpy.array((-1,0.5))\n",
    "vectors = []\n",
    "for _ in range(30):\n",
    "    m = randint(-10,10)\n",
    "    n = randint(-10,10)\n",
    "    vectors.append(m*a + n*d)\n",
    "    \n",
    "plot_vector(vectors)\n",
    "pyplot.title(\"Thirty linear combinations of the vectors $\\mathbf{a}$ and $\\mathbf{d}$.\");"
   ]
  },
  {
   "cell_type": "markdown",
   "metadata": {},
   "source": [
    "*What's going on?*\n",
    "\n",
    "Well, the new vector $\\mathbf{d}$ happens to be a scaled version of the original vector $\\mathbf{a}$—we say that they are _colinear_. Thus, all linear combinations of $\\mathbf{a}$ and $\\mathbf{d}$ end up on one line, which is their span. Their combinations are not able to travel all over the plane!\n",
    "\n",
    "##### Definition:\n",
    "\n",
    "> A **basis** for a vector space is a set of _linearly independent_ vectors that _span_ that space.\n",
    "\n",
    "Plotting 30 vectors can result in a messy figure. When we want to visualize many vectors like this, we can simplify the plot by only showing the tip (head) of the vector, as a point on the plane. We'll do that from now on."
   ]
  },
  {
   "cell_type": "markdown",
   "metadata": {},
   "source": [
    "## What's a matrix?\n",
    "\n",
    "In many books, they'll tell you that a matrix is a \"table\" of numbers, ordered in rows and columns. Maybe that's enough for some people, but you will get a kick out of _seeing_ what a matrix does!\n",
    "\n",
    "Let's remember our friendly vectors from above:\n",
    "\n",
    "$$\n",
    "   \\mathbf{a} = \\left[ \\begin{array}{c} -2 \\\\ 1  \\end{array} \\right], \\quad  \n",
    "   \\mathbf{b} = \\left[ \\begin{array}{c} 1 \\\\ -3  \\end{array} \\right] \n",
    "$$\n",
    "\n",
    "Our little experiment with 30 random linear combinations of $\\mathbf{a}$ and $\\mathbf{b}$ helped us visualize that they can span the 2D space, and nothing is stopping us from using them as a basis if we so desire.\n",
    "\n",
    "Remember also our vector $\\mathbf{c} = \\left[ \\begin{array}{c} 2 \\\\ 1  \\end{array} \\right]$. Choosing $\\mathbf{i}$ and $\\mathbf{j}$ as a basis, then $\\mathbf{c} = 2\\,\\mathbf{i} + 1\\,\\mathbf{j}$.\n",
    "\n",
    "Now imagine that we use the components of $\\mathbf{c}$ to make a linear combination of $\\mathbf{a}$ and $\\mathbf{b}$:\n",
    "\n",
    "$$\n",
    " 2\\,\\mathbf{a} + 1\\,\\mathbf{b} =\n",
    " 2\\cdot\\left[ \\begin{array}{c} -2 \\\\ 1  \\end{array} \\right] +\n",
    " 1\\cdot\\left[ \\begin{array}{c} 1 \\\\ -3  \\end{array} \\right] = \n",
    "  \\left[ \\begin{array}{c} -3 \\\\ -1  \\end{array} \\right]\n",
    "$$\n",
    "\n",
    "This is a new vector, let's call it $\\mathbf{c}^\\prime$: \n",
    "\n",
    "- it has components $\\left[ \\begin{array}{c} 2 \\\\ 1  \\end{array} \\right]$ in the $\\mathbf{a}$, $\\mathbf{b}$ system of coordinates, and \n",
    "- it has components\n",
    "$\\left[ \\begin{array}{c} -3 \\\\ -1  \\end{array} \\right]$ in the $\\mathbf{i}$, $\\mathbf{j}$ system of coordinates.\n",
    "\n",
    "This will blow your mind. Arrange the vectors $\\mathbf{a}$ and $\\mathbf{b}$ as the columns of a matrix, and you'll see that:\n",
    "\n",
    "$$\n",
    "   \\begin{bmatrix} -2 & 1 \\\\ \n",
    "                    1 & -3  \\end{bmatrix}  \n",
    "   \\left[ \\begin{array}{c} 2 \\\\ 1  \\end{array} \\right] =\n",
    "  \\left[ \\begin{array}{c} -3 \\\\ -1  \\end{array} \\right]\n",
    "$$\n",
    "\n",
    "The matrix $\\,A=\\begin{bmatrix} -2 & 1 \\\\ \n",
    "                    1 & -3  \\end{bmatrix} $  when multiplied by the vector $\\mathbf{c}$ gives the vector $\\mathbf{c}^\\prime$.\n",
    "\n",
    "##### Key idea:\n",
    "\n",
    "> The matrix A represents the **linear transformation** that maps vector $\\mathbf{c}$ into $\\mathbf{c}^\\prime$.\n",
    "\n",
    "Let's play around with this a bit more.\n",
    "\n",
    "We can define a NumPy array to represent the matrix $A$, as follows:"
   ]
  },
  {
   "cell_type": "code",
   "execution_count": null,
   "metadata": {},
   "outputs": [],
   "source": [
    "A = [[-2,1], [1,-3]]\n",
    "A = numpy.array(A)\n",
    "print(A)"
   ]
  },
  {
   "cell_type": "markdown",
   "metadata": {},
   "source": [
    "We can use the NumPy [`dot()`](https://docs.scipy.org/doc/numpy-1.15.0/reference/generated/numpy.dot.html) method to multiply the matrix $A$ and the vector $\\mathbf{c}$:"
   ]
  },
  {
   "cell_type": "code",
   "execution_count": null,
   "metadata": {},
   "outputs": [],
   "source": [
    "A.dot(c)"
   ]
  },
  {
   "cell_type": "markdown",
   "metadata": {},
   "source": [
    "Sure enough, this gives the vector $\\mathbf{c}^\\prime$. Now let's see what happens when we multiply the matrix $A$ with the basis vectors $\\mathbf{i}$ and $\\mathbf{j}$:"
   ]
  },
  {
   "cell_type": "code",
   "execution_count": null,
   "metadata": {},
   "outputs": [],
   "source": [
    "A.dot(i)"
   ]
  },
  {
   "cell_type": "code",
   "execution_count": null,
   "metadata": {},
   "outputs": [],
   "source": [
    "A.dot(j)"
   ]
  },
  {
   "cell_type": "markdown",
   "metadata": {},
   "source": [
    "Woot! The matrix $A$ when multiplied by the vector $\\mathbf{i}$ gives the vector $\\mathbf{a}$ and when multiplied by the vector $\\mathbf{j}$ gives the vector $\\mathbf{b}$.\n",
    "\n",
    "Remember that we used the components of $\\mathbf{c}$ in a linear combination of $\\mathbf{a}$ and $\\mathbf{b}$ to get $\\mathbf{c}^\\prime$: $2\\,\\mathbf{a} + 1\\,\\mathbf{b}$.\n",
    "What we find is that the linear transformation represented by the matrix $A$, maps the vector $\\mathbf{c}$ to the linear combination of the transformed $\\mathbf{i}$ and $\\mathbf{j}$.\n",
    "\n",
    "Since _all_ vectors are a linear combination of the basis vectors, $\\mathbf{i}$ and $\\mathbf{j}$, scaled by the vector components, they are _all_ transformed to a linear combination of $\\mathbf{a}$ and $\\mathbf{b}$ with the same scalars.\n",
    "\n",
    "Let's try to visualize that. Our helpful custom function `plot_linear_transformation()` draws a grid of points on the plane, then applies the linear transformation described by the matrix argument, and plots the tranformed grid. This is what $A$ does to the grid:"
   ]
  },
  {
   "cell_type": "code",
   "execution_count": null,
   "metadata": {},
   "outputs": [],
   "source": [
    "plot_linear_transformation(A)"
   ]
  },
  {
   "cell_type": "markdown",
   "metadata": {},
   "source": [
    "##### Key idea:\n",
    "\n",
    "> A **linear transformation** keeps the origin in place and maps straight lines to straight lines.\n",
    "\n",
    "The third episose of the series [_\"Essence of Linear Algebra\"_](http://3b1b.co/eola) uses wonderful animations to illustrate the idea of matrices as linear transformations [3]."
   ]
  },
  {
   "cell_type": "markdown",
   "metadata": {},
   "source": [
    "Let's practice with another example. Consider the matrix:\n",
    "\n",
    "$$ M = \\begin{bmatrix} 1 & 2 \\\\\n",
    "                      2 & 1 \\end{bmatrix} $$\n",
    "\n",
    "The first column corresponds to the vector where $\\mathbf{i}$ lands after the transformation, and the second column is where $\\mathbf{j}$ lands:\n",
    "$$\n",
    "\\mathbf{i} = \\begin{bmatrix} 1 \\\\ 0 \\end{bmatrix}  \\Rightarrow  \\begin{bmatrix} 1 \\\\ 2 \\end{bmatrix} \\\\\n",
    "\\mathbf{j} = \\begin{bmatrix} 0 \\\\ 1 \\end{bmatrix}  \\Rightarrow  \\begin{bmatrix} 2 \\\\ 1 \\end{bmatrix}\n",
    "$$\n",
    "\n",
    "Any arbitrary vector on the plane, $\\mathbf{x} = \\left[ \\begin{array}{c} x \\\\ y  \\end{array} \\right]$ , maps to: \n",
    "\n",
    "$$\n",
    "  x \\left[ \\begin{array}{c} 1 \\\\ 2  \\end{array} \\right] + \n",
    "  y \\left[ \\begin{array}{c} 2 \\\\ 1  \\end{array} \\right]\n",
    "$$"
   ]
  },
  {
   "cell_type": "code",
   "execution_count": null,
   "metadata": {},
   "outputs": [],
   "source": [
    "M = [[1,2], [2,1]]\n",
    "M = numpy.array(M)\n",
    "print(M)"
   ]
  },
  {
   "cell_type": "code",
   "execution_count": null,
   "metadata": {},
   "outputs": [],
   "source": [
    "M.dot(i)"
   ]
  },
  {
   "cell_type": "code",
   "execution_count": null,
   "metadata": {},
   "outputs": [],
   "source": [
    "M.dot(j)"
   ]
  },
  {
   "cell_type": "code",
   "execution_count": null,
   "metadata": {},
   "outputs": [],
   "source": [
    "plot_linear_transformation(M)"
   ]
  },
  {
   "cell_type": "markdown",
   "metadata": {},
   "source": [
    "To see what the transformation does to one particular vector, we can use our custom function `plot_vector` again, using the vector and its transformed self. Try several different ones…"
   ]
  },
  {
   "cell_type": "code",
   "execution_count": null,
   "metadata": {},
   "outputs": [],
   "source": [
    "x = numpy.array((0.5,1))\n",
    "\n",
    "vectors = [x, M.dot(x)]\n",
    "plot_vector(vectors)"
   ]
  },
  {
   "cell_type": "markdown",
   "metadata": {},
   "source": [
    "##### Note:\n",
    "\n",
    "When we represent a matrix in Python using the NumPy array data type, we define it by listing the **rows** of the matrix. We didn't emphasize this in the examples above, where we chose matrices whose rows matched the columns! But that's just a coincidence. Look at another case:"
   ]
  },
  {
   "cell_type": "code",
   "execution_count": null,
   "metadata": {},
   "outputs": [],
   "source": [
    "N = numpy.array([[1,2],[5,6]])\n",
    "print(N)"
   ]
  },
  {
   "cell_type": "code",
   "execution_count": null,
   "metadata": {},
   "outputs": [],
   "source": [
    "plot_linear_transformation(N)"
   ]
  },
  {
   "cell_type": "markdown",
   "metadata": {},
   "source": [
    "##### Try it!\n",
    "\n",
    "Create a $2\\times2$ matrix of your choosing (as a NumPy array of the row list), print it, then multiply it by the basis vectors $\\mathbf{i}$ and $\\mathbf{j}$, and finally visualize it using our helper function `plot_linear_transformation()`."
   ]
  },
  {
   "cell_type": "markdown",
   "metadata": {},
   "source": [
    "## Matrix-vector multiplication\n",
    "\n",
    "Consider again the matrix $A$ defined above. As a linear transformation, it maps any arbitrary vector on the plane, $\\mathbf{x} = \\left[ \\begin{array}{c} x \\\\ y  \\end{array} \\right]$ , to: \n",
    "$$\n",
    "  x \\left[ \\begin{array}{c} -2 \\\\ 1  \\end{array} \\right] + \n",
    "  y \\left[ \\begin{array}{c} 1 \\\\ -3  \\end{array} \\right]\n",
    "$$\n",
    "\n",
    "Since applying the linear transformation *is* computing the matrix-vector multiplication $A\\mathbf{x}$, we see that matrix-vector multiplication is a combination of the matrix columns scaled by the vector components:\n",
    "\n",
    "$$\n",
    "   A\\mathbf{x} = x\\,\\mathbf{a} + y\\,\\mathbf{b}\n",
    "$$\n",
    "where the vectors $\\mathbf{a}$ and $\\mathbf{b}$ are the columns of $A$.\n",
    "\n",
    "##### Key idea:\n",
    "\n",
    "> The matrix-vector multiplication $A\\mathbf{x}$ is a linear combination of the columns of $A$ scaled by the components of $\\mathbf{x}$.\n",
    "\n",
    "This is also the case in 3 dimensions. Consider the matrix $B$ and the vector $\\mathbf{y}=\\left[ \\begin{array}{c} x \\\\ y \\\\z \\end{array} \\right]$\n",
    "\n",
    "$$ B = \\begin{bmatrix} 1 & 2 & 4\\\\\n",
    "                       2 & 1 & -1\\\\\n",
    "                       0 & 3 & 1 \\end{bmatrix} $$\n",
    "\n",
    "$$ B\\mathbf{y} = x\\left[ \\begin{array}{c} 1 \\\\ 2 \\\\0 \\end{array} \\right] + \n",
    "                 y\\left[ \\begin{array}{c} 2 \\\\ 1 \\\\3 \\end{array} \\right] + \n",
    "                 z\\left[ \\begin{array}{c} 4 \\\\ -1 \\\\1 \\end{array} \\right] \n",
    "$$"
   ]
  },
  {
   "cell_type": "markdown",
   "metadata": {},
   "source": [
    "## Some special transformations\n",
    "\n",
    "### Rotation\n",
    "\n",
    "Imagine that you want a transformation that takes any vector and rotates it 90 degrees to the left. You can visualize that the unit vectors need to map as follows:\n",
    "\n",
    "$$\n",
    "\\mathbf{i} = \\begin{bmatrix} 1 \\\\ 0 \\end{bmatrix}  \\Rightarrow  \\begin{bmatrix} 0 \\\\ 1 \\end{bmatrix} \\\\\n",
    "\\mathbf{j} = \\begin{bmatrix} 0 \\\\ 1 \\end{bmatrix}  \\Rightarrow  \\begin{bmatrix} -1 \\\\ 0 \\end{bmatrix}\n",
    "$$\n",
    "\n",
    "That means that the matrix that transforms all vectors by a left 90-degree **rotation** is:\n",
    "\n",
    "$$ R = \\begin{bmatrix} 0 & -1 \\\\\n",
    "                       1 & 0 \\end{bmatrix} $$\n",
    "\n",
    "The rotation of any vector $\\mathbf{x}$ is the multiplication $R\\mathbf{x}$."
   ]
  },
  {
   "cell_type": "markdown",
   "metadata": {},
   "source": [
    "### Shear\n",
    "\n",
    "Another special transformation turns every square into a diamond shape by leaving $\\mathbf{x}$ unchanged, and tranforming $\\,\\mathbf{j}$ so its tip falls on the coordinates $(1,1)$: \n",
    "\n",
    "$$\n",
    "\\mathbf{i} = \\begin{bmatrix} 1 \\\\ 0 \\end{bmatrix}  \\Rightarrow  \\begin{bmatrix} 1 \\\\ 0 \\end{bmatrix} \\\\\n",
    "\\mathbf{j} = \\begin{bmatrix} 0 \\\\ 1 \\end{bmatrix}  \\Rightarrow  \\begin{bmatrix} 1 \\\\ 1 \\end{bmatrix}\n",
    "$$\n",
    "\n",
    "This transformation is often called **shear**, and the matrix is:\n",
    "\n",
    "\n",
    "$$ S = \\begin{bmatrix} 1 & 1 \\\\\n",
    "                       0 & 1 \\end{bmatrix} $$\n",
    "\n",
    "The shear of any vector $\\mathbf{x}$ is the multiplication $S\\mathbf{x}$.\n",
    "\n",
    "Let's define these matrices as NumPy arrays, then use our helper function to visualize the corresponding transformation."
   ]
  },
  {
   "cell_type": "code",
   "execution_count": null,
   "metadata": {},
   "outputs": [],
   "source": [
    "rotation = numpy.array([[0,-1], [1,0]])\n",
    "print(rotation)"
   ]
  },
  {
   "cell_type": "code",
   "execution_count": null,
   "metadata": {},
   "outputs": [],
   "source": [
    "shear = numpy.array([[1,1], [0,1]])\n",
    "print(shear)"
   ]
  },
  {
   "cell_type": "code",
   "execution_count": null,
   "metadata": {},
   "outputs": [],
   "source": [
    "plot_linear_transformation(rotation)"
   ]
  },
  {
   "cell_type": "code",
   "execution_count": null,
   "metadata": {},
   "outputs": [],
   "source": [
    "plot_linear_transformation(shear)"
   ]
  },
  {
   "cell_type": "markdown",
   "metadata": {},
   "source": [
    "### Scaling\n",
    "\n",
    "A **scaling** transformation doesn't rotate or shear the basis vectors, but scales them in length. For example, a transformation that elongates $\\mathbf{i}$ but shrinks $\\mathbf{j}$ could do:\n",
    "\n",
    "\n",
    "$$\n",
    "\\mathbf{i} = \\begin{bmatrix} 1 \\\\ 0 \\end{bmatrix}  \\Rightarrow  \\begin{bmatrix} 2 \\\\ 0 \\end{bmatrix} \\\\\n",
    "\\mathbf{j} = \\begin{bmatrix} 0 \\\\ 1 \\end{bmatrix}  \\Rightarrow  \\begin{bmatrix} 0 \\\\ 0.5 \\end{bmatrix}\n",
    "$$\n",
    "\n",
    "Look at what the matrix transformation does in this case…"
   ]
  },
  {
   "cell_type": "code",
   "execution_count": null,
   "metadata": {},
   "outputs": [],
   "source": [
    "scale = numpy.array([[2,0], [0,0.5]])\n",
    "print(scale)\n",
    "plot_linear_transformation(scale)"
   ]
  },
  {
   "cell_type": "markdown",
   "metadata": {},
   "source": [
    "The common structure of scaling matrices is that they have non-zero values in the diagonal, but zero values elsewhere.\n",
    "One special scaling matrix leaves the lengths of the basis vectors unchanged: it is called the **identity** matrix:\n",
    "\n",
    "\n",
    "$$ I = \\begin{bmatrix} 1 & 0 \\\\\n",
    "                       0 & 1 \\end{bmatrix} $$\n",
    "\n",
    "NumPy creates identity arrays of any size with [`numpy.identity()`](https://docs.scipy.org/doc/numpy/reference/generated/numpy.eye.html?highlight=eye#numpy.eye), passing the dimention (number of rows and columns) as argument. In the 2D case:"
   ]
  },
  {
   "cell_type": "code",
   "execution_count": null,
   "metadata": {},
   "outputs": [],
   "source": [
    "I = numpy.identity(2)\n",
    "print(I)"
   ]
  },
  {
   "cell_type": "markdown",
   "metadata": {},
   "source": [
    "##### Exercise:\n",
    "\n",
    "Create a rotation matrix that rotates every vector 90 degrees clockwise, then visualize the transformation with our helper function."
   ]
  },
  {
   "cell_type": "markdown",
   "metadata": {},
   "source": [
    "## Matrix-matrix multiplication\n",
    "\n",
    "What do you think happens when we apply two linear transformations? For example, if we rotate all vectors by 90 degrees to the left, and *then* apply a shear transformation?\n",
    "\n",
    "Take any vector $\\mathbf{x}$, rotate it by multiplying it with the matrix $R$, then take this transformed vector and multiply it by the matrix $S$. The final vector is the result of the two combined linear tranformations. It is analogous to the composition of two functions, and its computation leads to a matrix-matrix multiplication:\n",
    "\n",
    "$$\n",
    "  S\\, R\\, \\mathbf{x} =\n",
    "   \\begin{bmatrix} 1 & 1 \\\\\n",
    "                       0 & 1 \\end{bmatrix}\n",
    "  \\begin{bmatrix} 0 & -1 \\\\\n",
    "                       1 & 0 \\end{bmatrix}\n",
    "  \\mathbf{x}\n",
    "$$\n",
    "\n",
    "We can almost work this out in our heads. \n",
    "The unit vector $\\mathbf{i}$ gets first rotated to $\\begin{bmatrix} 0 \\\\ 1 \\end{bmatrix}$ (the first column of $R$), and then is transformed by $S$ via the multiplication:\n",
    "\n",
    "$$\n",
    "  S\\,\\begin{bmatrix} 0 \\\\ 1 \\end{bmatrix} =\n",
    "    \\begin{bmatrix} 1 & 1 \\\\\n",
    "                    0 & 1 \\end{bmatrix}\n",
    "  \\begin{bmatrix} 0 \\\\ 1 \\end{bmatrix} =\n",
    "  0 \\begin{bmatrix} 1 \\\\ 0 \\end{bmatrix}+\n",
    "  1 \\begin{bmatrix} 1 \\\\ 1 \\end{bmatrix} =\n",
    "    \\begin{bmatrix} 1 \\\\ 1 \\end{bmatrix}\n",
    "$$\n",
    "\n",
    "Similarly for the unit vector $\\mathbf{j}$, we find it lands on $\\begin{bmatrix} -1 \\\\ 0 \\end{bmatrix}$. We have the two columns of the resulting matrix from the multiplication $SR$.\n",
    "\n",
    "Python (since version 3.5) has a built-in operator that computes matrix-matrix multiplication: `@`. Try it:"
   ]
  },
  {
   "cell_type": "code",
   "execution_count": null,
   "metadata": {},
   "outputs": [],
   "source": [
    "print(shear@rotation)"
   ]
  },
  {
   "cell_type": "markdown",
   "metadata": {},
   "source": [
    "Yep. Those are the two column vectors we worked out above. Beautiful. \n",
    "Let's visualize the combined transformation now."
   ]
  },
  {
   "cell_type": "code",
   "execution_count": null,
   "metadata": {},
   "outputs": [],
   "source": [
    "plot_linear_transformation(shear@rotation)"
   ]
  },
  {
   "cell_type": "markdown",
   "metadata": {},
   "source": [
    "##### Key idea:\n",
    "\n",
    "> Matrix multiplication corresponds to composition of linear transformations, i.e., applying two transformations in sequence.\n",
    "\n",
    "This view of matrix multiplication will save you from a lot of unnecessary memorization. It also illuminates the properties of matrix multiplications. For example, is it the same to apply shear and *then* rotate, instead of the other way around? \n",
    "\n",
    "This is the same question as asking if matrix multiplication is commutative. Is $SR$ the same as $RS$?\n",
    "\n",
    "We have a helper function that plots the grid lines on a plane after two transformations in sequence. Let's try it with $S$ and $R$ in swapped orders."
   ]
  },
  {
   "cell_type": "code",
   "execution_count": null,
   "metadata": {},
   "outputs": [],
   "source": [
    "# the order of transformation: from right to left\n",
    "plot_linear_transformations(rotation, shear) "
   ]
  },
  {
   "cell_type": "code",
   "execution_count": null,
   "metadata": {},
   "outputs": [],
   "source": [
    "plot_linear_transformations(shear, rotation) "
   ]
  },
  {
   "cell_type": "markdown",
   "metadata": {},
   "source": [
    "Nope. The result is not the same. The order of transformations matters and **matrix mulitiplication is not commutative**.\n",
    "\n",
    "Episose four of the series [_\"Essence of Linear Algebra\"_](http://3b1b.co/eola) beautifully illustrates the key idea of matrix multiplication as composition of linear transformations [4]."
   ]
  },
  {
   "cell_type": "markdown",
   "metadata": {},
   "source": [
    "## Inverse of a matrix\n",
    "\n",
    "Thinking of matrices as linear transformations also helps demistyfy the idea of an **inverse**. We won't go into details here, but imagine that you apply two transformations in sequence, and every vector in 2D space ends up just where it started. Well, that can happen when one transformation undoes the previous one. This means that the second transformation is the inverse of the first.\n",
    "\n",
    "NumPy has great built-in Linear Algebra capabilities in the `numpy.linalg` module. Among its many functions, we get [`inv()`](https://docs.scipy.org/doc/numpy-1.15.0/reference/generated/numpy.linalg.inv.html), to compute the inverse of a matrix. So we can try right away to visualize a sequence of transformations: first with the matrix $M$, then the inverse of $M$. Check it out."
   ]
  },
  {
   "cell_type": "code",
   "execution_count": null,
   "metadata": {},
   "outputs": [],
   "source": [
    "from numpy.linalg import inv"
   ]
  },
  {
   "cell_type": "code",
   "execution_count": null,
   "metadata": {},
   "outputs": [],
   "source": [
    "M = numpy.array([[1,2], [2,1]])\n",
    "M_inv = inv(M)\n",
    "plot_linear_transformations(M, M_inv)"
   ]
  },
  {
   "cell_type": "markdown",
   "metadata": {},
   "source": [
    "The combined action of the linear transformation $M$ and its inverse $M^{-1}$ is to leave every vector the same. In other words, the matrix multiplication $M^{-1}M$ is equal to the identity $I$."
   ]
  },
  {
   "cell_type": "markdown",
   "metadata": {},
   "source": [
    "## References\n",
    "\n",
    "1. Vectors, what even are they? Essence of linear algebra, chapter 1. Video at https://youtu.be/fNk_zzaMoSs (2016), by Grant Sanderson.\n",
    "2. Linear combinations, span, and basis vectors. Essence of linear algebra, chapter 2. Video at https://youtu.be/k7RM-ot2NWY (2016), by Grant Sanderson.\n",
    "3. Linear transformations and matrices. Essence of linear algebra, chapter 3. Video at https://youtu.be/kYB8IZa5AuE (2016), by Grant Sanderson.\n",
    "4. Matrix multiplication as composition. Essence of linear algebra, chapter 4. Video at https://youtu.be/XkY2DOUCWMU (2016), by Grant Sanderson."
   ]
  },
  {
   "cell_type": "code",
   "execution_count": null,
   "metadata": {},
   "outputs": [],
   "source": [
    "# Execute this cell to load the notebook's style sheet, then ignore it\n",
    "from IPython.core.display import HTML\n",
    "css_file = '../style/custom.css'\n",
    "HTML(open(css_file, \"r\").read())"
   ]
  }
 ],
 "metadata": {
  "kernelspec": {
   "display_name": "Python 3",
   "language": "python",
   "name": "python3"
  },
  "language_info": {
   "codemirror_mode": {
    "name": "ipython",
    "version": 3
   },
   "file_extension": ".py",
   "mimetype": "text/x-python",
   "name": "python",
   "nbconvert_exporter": "python",
   "pygments_lexer": "ipython3",
   "version": "3.6.6"
  }
 },
 "nbformat": 4,
 "nbformat_minor": 2
}
