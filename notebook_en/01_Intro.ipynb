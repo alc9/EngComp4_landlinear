{
 "cells": [
  {
   "cell_type": "code",
   "execution_count": null,
   "metadata": {},
   "outputs": [],
   "source": [
    "import numpy\n",
    "%matplotlib notebook\n",
    "from matplotlib import pyplot"
   ]
  },
  {
   "cell_type": "code",
   "execution_count": null,
   "metadata": {},
   "outputs": [],
   "source": [
    "import sys\n",
    "sys.path.append('../scripts/')\n",
    "\n",
    "# Our helper, with the functions: \n",
    "# plot_vector, plot_linear_transformation, plot_linear_transformations\n",
    "from plot_helper import *   "
   ]
  },
  {
   "cell_type": "markdown",
   "metadata": {},
   "source": [
    "## What's a vector?\n",
    "\n",
    "Vectors are everywhere: physics, engineering, mathematics, computer science, video games, and more. Each field's interpretation of what a vector *is* may be different, but  vectors live a similar life in every space.\n",
    "\n",
    "The first episode in the wonderful video series, [_\"Essence of Linear Algebra\"_](http://3b1b.co/eola) tells you of three different ideas about vectors [1]:\n",
    "\n",
    "1. For physicists, a vector is an \"arrow\" of a given length (magnitude) and direction. It can represent directional quantities like velocity, force, acceleration.\n",
    "2. For computer scientists, a vector is an ordered list of numbers. It can represent a set of variables or features stored in order.\n",
    "3. For mathematicians, vectors are generic objects that behave a certain way when they are added or scaled:  $\\vec{u}+\\vec{v}$, $\\alpha\\vec{v}$.\n",
    "\n",
    "<img src=\"../images/whatsavector.png\" style=\"width: 500px;\"/> \n",
    "#### How you think of a vector depends on who you are..."
   ]
  },
  {
   "cell_type": "markdown",
   "metadata": {},
   "source": [
    "In physics, vectors are almost always two- or three-dimensional (although in some fancy branches of physics they do go to higher dimensions). Vectors help physicists describe things like motion and electro-magnetic fields on a plane or in physical 3D space.\n",
    "\n",
    "In computer science and in data science, vectors are often multi-dimensional, that is, they have many components. They contain a set of ordered variables in a data model, like for example: the age, weight, daily hours of sleep, weekly hours of exercise, and blood pressure of an individual (five dimensions).\n",
    "\n",
    "Let's start with the idea of a vector as an \"arrow\" (magnitude plus direction). We visualize a vector by placing this arrow with its tail at the origin of a coordinate system.\n",
    "But changing the position of the tail doesn't change the vector's magnitude or direction, so the vector is the same no matter where we draw it. \n",
    "\n",
    "In the code cell below, we define a list with a single vector of coordinates $(2, 2)$, and we use our custom function `plot_vector()` to plot the vector with its tail at four different positions on a 2D coordinate system. "
   ]
  },
  {
   "cell_type": "code",
   "execution_count": null,
   "metadata": {
    "scrolled": true
   },
   "outputs": [],
   "source": [
    "vectors = [(2,2)]\n",
    "tails = [(-3,-2), (-3,1), (0,0), (1,-3)]\n",
    "plot_vector(vectors, tails)\n",
    "pyplot.title(\"The same vector, with its tail at four locations on the 2D plane.\")"
   ]
  },
  {
   "cell_type": "markdown",
   "metadata": {},
   "source": [
    "In the 2D plane, we can see clearly the connection between the \"arrow\" idea of vector, and the \"list of numbers,\" which in this case represents the coordinates of the arrow head when the tail is at the origin of the coordinate system.\n",
    "\n",
    "The first coordinate designates the horizontal distance between head and tail, and the second coordinate designates the vertical distance between head and tail. We typically will denote horizontal and vertical axes as $x$ and $y$.\n",
    "\n",
    "In three dimensions, $x$ and $y$ are usually denoting the perpendicular axes on the horizontal plane, and the vertical axis is denoted by $z$. A 3D vector thus has three components: $(x, y, z)$."
   ]
  },
  {
   "cell_type": "markdown",
   "metadata": {},
   "source": [
    "##### Note:\n",
    "\n",
    "Our helper function `plot_vector()` takes two lists as arguments. It can either plot one vector with its tail on several locations, or several vectors with their tail at one location. It can also plot several vectors with their tails at different locations, but in that case, the two lists have to match in length (if they don't, the function will give an error)."
   ]
  },
  {
   "cell_type": "markdown",
   "metadata": {},
   "source": [
    "## Fundamental vector operations\n",
    "\n",
    "Two operations are the foundation of everything: vector addition, and multiplication by a scalar (i.e., scaling).\n",
    "\n",
    "Let's first visualize vector addition. Suppose we have two vectors: \n",
    "\n",
    "\\begin{equation}\n",
    "   a = \\left[ \\begin{array}[c] -2 \\\\ 1  \\end{array} \\right], \\quad  \n",
    "   b = \\left[ \\begin{array}[c] 1 \\\\ -3  \\end{array} \\right] \\nonumber\n",
    "\\end{equation}\n",
    "\n",
    "We can visualize vector addition as follows: draw vector $a$ with its tail at the origin; then draw vector $b$ with its tail on the head of $a$. If you now draw a vector from the origin to the head of $b$, that vector is $a + b$.\n",
    "\n",
    "Let's do it with our helper function for plotting 2D vectors."
   ]
  },
  {
   "cell_type": "code",
   "execution_count": null,
   "metadata": {},
   "outputs": [],
   "source": [
    "# vector addition\n",
    "a = numpy.array((-2,1))\n",
    "b = numpy.array((1,-3))\n",
    "origin = numpy.array((0,0))\n",
    "\n",
    "vectors = [a, b, a+b]\n",
    "tails   = [origin, a, origin]\n",
    "plot_vector(vectors, tails)\n",
    "pyplot.title(\"Adding vectors with coordinates $(-2, 1)$ and $(1,-3)$.\")"
   ]
  },
  {
   "cell_type": "code",
   "execution_count": null,
   "metadata": {},
   "outputs": [],
   "source": [
    "# vector scaling\n",
    "c = numpy.array((2,1))\n",
    "vectors = [c, 2*c]\n",
    "plot_vector(vectors)"
   ]
  },
  {
   "cell_type": "markdown",
   "metadata": {},
   "source": [
    "- Basis Vector\n",
    "    - if we define: $\\hat{i} = (1,0), \\hat{j} = (0,1)$, then vector $(3,2)$ is a linear combination of $\\hat{i}$ and $\\hat{j}$:  $3\\hat{i} + 2\\hat{j}$"
   ]
  },
  {
   "cell_type": "code",
   "execution_count": null,
   "metadata": {},
   "outputs": [],
   "source": [
    "# basis vector\n",
    "i = numpy.array((1,0))\n",
    "j = numpy.array((0,1))\n",
    "vec = 3*i + 2*j\n",
    "vectors = [i, j, 3*i, 2*j, vec]\n",
    "plot_vector(vectors)"
   ]
  },
  {
   "cell_type": "markdown",
   "metadata": {},
   "source": [
    "- span of two vectors is the set of their linear combinations"
   ]
  },
  {
   "cell_type": "code",
   "execution_count": null,
   "metadata": {},
   "outputs": [],
   "source": [
    "from numpy.random import randint"
   ]
  },
  {
   "cell_type": "code",
   "execution_count": null,
   "metadata": {},
   "outputs": [],
   "source": [
    "# span\n",
    "vectors = []\n",
    "i = numpy.array((1,0))\n",
    "j = numpy.array((0,1))\n",
    "for _ in range(30):\n",
    "    m = randint(-10,10)\n",
    "    n = randint(-10,10)\n",
    "    vectors.append(m*i + n*j)\n",
    "plot_vector(vectors)    "
   ]
  },
  {
   "cell_type": "markdown",
   "metadata": {},
   "source": [
    "From now on we only draw the tip (head) of the vector for simplicity."
   ]
  },
  {
   "cell_type": "markdown",
   "metadata": {},
   "source": [
    "- What is a matrix?\n",
    "    - A matrix describes a linear transformation "
   ]
  },
  {
   "cell_type": "code",
   "execution_count": null,
   "metadata": {},
   "outputs": [],
   "source": [
    "matrix = [[1,2], [2,1]]\n",
    "matrix = numpy.array(matrix)\n",
    "plot_linear_transformation(matrix)"
   ]
  },
  {
   "cell_type": "markdown",
   "metadata": {},
   "source": [
    "$ M = \\begin{bmatrix} 1 & 2 \\\\\n",
    "                      2 & 1 \\end{bmatrix} $\n",
    "\n",
    "The basis $\\hat{i}$ lands at $(1,2)^T$ and basis $\\hat{j}$ lands at $(2,1)^T$ after the transformation.\n",
    "\n",
    "$$\n",
    "\\begin{equation}\n",
    "\\hat{i} = \\begin{bmatrix} 1 \\\\ 0 \\end{bmatrix}  \\Rightarrow  \\begin{bmatrix} 1 \\\\ 2 \\end{bmatrix} \\\\\n",
    "\\hat{j} = \\begin{bmatrix} 0 \\\\ 1 \\end{bmatrix}  \\Rightarrow  \\begin{bmatrix} 2 \\\\ 1 \\end{bmatrix}\n",
    "\\end{equation}\n",
    "$$"
   ]
  },
  {
   "cell_type": "markdown",
   "metadata": {},
   "source": [
    "- Matrix-Matrix multiplication:\n",
    " a combination of two linear tranformations"
   ]
  },
  {
   "cell_type": "code",
   "execution_count": null,
   "metadata": {},
   "outputs": [],
   "source": [
    "shear = numpy.array([[1,1], [0,1]])\n",
    "rotation = numpy.array([[0,-1], [1,0]])"
   ]
  },
  {
   "cell_type": "code",
   "execution_count": null,
   "metadata": {},
   "outputs": [],
   "source": [
    "plot_linear_transformation(shear@rotation)"
   ]
  },
  {
   "cell_type": "code",
   "execution_count": null,
   "metadata": {},
   "outputs": [],
   "source": [
    "plot_linear_transformations(rotation, shear)  # the order of transformation: from right to left"
   ]
  },
  {
   "cell_type": "markdown",
   "metadata": {},
   "source": [
    "note: `shear@rotation != rotation@shear` the order of transformations is important. Matrix mulitiplication is not commutative."
   ]
  },
  {
   "cell_type": "markdown",
   "metadata": {},
   "source": [
    "- Inverse of a matrix:"
   ]
  },
  {
   "cell_type": "code",
   "execution_count": null,
   "metadata": {},
   "outputs": [],
   "source": [
    "from numpy.linalg import inv"
   ]
  },
  {
   "cell_type": "code",
   "execution_count": null,
   "metadata": {},
   "outputs": [],
   "source": [
    "A = numpy.array([[1,2], [2,1]])\n",
    "A_inv = inv(A)\n",
    "plot_linear_transformations(A, A_inv)"
   ]
  },
  {
   "cell_type": "markdown",
   "metadata": {},
   "source": [
    "## References\n",
    "\n",
    "1. Vectors, what even are they? Essence of linear algebra, chapter 1. Video at https://youtu.be/fNk_zzaMoSs (2016), by Grant Sanderson."
   ]
  },
  {
   "cell_type": "code",
   "execution_count": null,
   "metadata": {},
   "outputs": [],
   "source": [
    "# Execute this cell to load the notebook's style sheet, then ignore it\n",
    "from IPython.core.display import HTML\n",
    "css_file = '../style/custom.css'\n",
    "HTML(open(css_file, \"r\").read())"
   ]
  }
 ],
 "metadata": {
  "kernelspec": {
   "display_name": "Python 3",
   "language": "python",
   "name": "python3"
  },
  "language_info": {
   "codemirror_mode": {
    "name": "ipython",
    "version": 3
   },
   "file_extension": ".py",
   "mimetype": "text/x-python",
   "name": "python",
   "nbconvert_exporter": "python",
   "pygments_lexer": "ipython3",
   "version": "3.6.5"
  }
 },
 "nbformat": 4,
 "nbformat_minor": 2
}
