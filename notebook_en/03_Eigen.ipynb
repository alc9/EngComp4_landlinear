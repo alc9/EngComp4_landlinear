{
 "cells": [
  {
   "cell_type": "code",
   "execution_count": null,
   "metadata": {},
   "outputs": [],
   "source": [
    "import numpy\n",
    "%matplotlib inline\n",
    "from matplotlib import pyplot"
   ]
  },
  {
   "cell_type": "code",
   "execution_count": null,
   "metadata": {},
   "outputs": [],
   "source": [
    "import sys\n",
    "sys.path.append('../scripts/')\n",
    "\n",
    "# Our helper, with the functions: \n",
    "# plot_vector, plot_linear_transformation, plot_linear_transformations\n",
    "from plot_helper import *"
   ]
  },
  {
   "cell_type": "markdown",
   "metadata": {},
   "source": [
    "So far we discussed about 3 different interpretations of a matrix when multiplying with a vector: \n",
    "1. apply a linear transformation to the vector (under the same basis)\n",
    "2. form the left hand side of some system of equations\n",
    "3. change the vector to a new basis\n",
    "\n",
    "This notebook uses 1 and 3 to explain one on the most talked about concepts: eigenvalues and eigenvectors.\n",
    "\n",
    "Let's first use `plot_linear_transformation()` to visualize how matrix $A = \\begin{bmatrix} 1 & 2 \\\\ 2 & 1 \\end{bmatrix}$ transform a vector. This time we also plot 5 additional vectors both before and after the transformation along with the grid. The basis vectors are still in red and green."
   ]
  },
  {
   "cell_type": "code",
   "execution_count": null,
   "metadata": {},
   "outputs": [],
   "source": [
    "A = numpy.array([[1,2], [2,1]])\n",
    "\n",
    "plot_linear_transformation(A)"
   ]
  },
  {
   "cell_type": "code",
   "execution_count": null,
   "metadata": {},
   "outputs": [],
   "source": [
    "alpha = numpy.linspace(0, 2*numpy.pi, 41)\n",
    "vectors = list(zip(numpy.cos(alpha), numpy.sin(alpha)))\n",
    "newvectors = []\n",
    "for i in range(len(vectors)):\n",
    "    newvectors.append(A.dot(numpy.array(vectors[i])))\n",
    "\n",
    "plot_vector(vectors)"
   ]
  },
  {
   "cell_type": "code",
   "execution_count": null,
   "metadata": {},
   "outputs": [],
   "source": [
    "plot_vector(newvectors)"
   ]
  },
  {
   "cell_type": "code",
   "execution_count": null,
   "metadata": {},
   "outputs": [],
   "source": [
    "lengths = []\n",
    "for i in range(len(newvectors)):\n",
    "    lengths.append(numpy.linalg.norm(newvectors[i]))\n",
    "semi_major = max(lengths)\n",
    "print('Semi-major axis',semi_major)\n",
    "semi_minor = min(lengths)\n",
    "print('Semi-minor axis',semi_minor)\n",
    "\n",
    "u1 = numpy.array([semi_major/numpy.sqrt(2), semi_major/numpy.sqrt(2)])\n",
    "u2 = numpy.array([-semi_minor/numpy.sqrt(2), semi_minor/numpy.sqrt(2)])"
   ]
  },
  {
   "cell_type": "code",
   "execution_count": null,
   "metadata": {},
   "outputs": [],
   "source": [
    "A_inv = numpy.linalg.inv(A)\n",
    "v1 = A_inv.dot(u1)\n",
    "plot_vector([u1,v1])"
   ]
  },
  {
   "cell_type": "code",
   "execution_count": null,
   "metadata": {},
   "outputs": [],
   "source": [
    "v2 = A_inv.dot(u2)\n",
    "plot_vector([u2,v2])"
   ]
  },
  {
   "cell_type": "markdown",
   "metadata": {},
   "source": [
    "In the first lesson, we saw some special transformations: _rotation_, _shear_, and _scaling_. \n",
    "Looking at the effect of the matrix transformation $C$ on the unit circle, we could imagine obtaining the same effect by first scaling the unit vectors—stretching $\\mathbf{i}$ to $3\\times$ its length and leaving $\\mathbf{j}$ with length $1$—and then rotating by 45 degrees counter-clockwise.\n",
    "We have also learned that applying linear transformations in sequence like this amounts to matrix multiplication.\n",
    "\n",
    "Let's try it. We first define the scaling transformation $S$, and apply it to the vectors mapping the unit circle. "
   ]
  },
  {
   "cell_type": "code",
   "execution_count": null,
   "metadata": {},
   "outputs": [],
   "source": [
    "S = numpy.array([[3,0], [0,-1]])\n",
    "print(S)"
   ]
  },
  {
   "cell_type": "code",
   "execution_count": null,
   "metadata": {},
   "outputs": [],
   "source": [
    "ellipse = []\n",
    "for i in range(len(vectors)):\n",
    "    ellipse.append(S.dot(numpy.array(vectors[i])))"
   ]
  },
  {
   "cell_type": "code",
   "execution_count": null,
   "metadata": {},
   "outputs": [],
   "source": [
    "plot_vector(ellipse)"
   ]
  },
  {
   "cell_type": "markdown",
   "metadata": {},
   "source": [
    "The previous lesson only showed a left 90-degree rotation. How do we rotate by any angle? You never have to memorize the \"formula\" for a rotation matrix. Just think about where the unit vectors land.\n",
    "\n",
    "<img src=\"../images/rotation.png\" style=\"width: 300px;\"/> \n",
    "#### Rotation of unit vectors by an angle $\\theta$ to the left.\n",
    "\n",
    "$$\n",
    "\\mathbf{i} = \\begin{bmatrix} 1 \\\\ 0 \\end{bmatrix}  \\Rightarrow  \\begin{bmatrix} \\cos{\\theta} \\\\ \\sin{\\theta} \\end{bmatrix} \\\\\n",
    "\\mathbf{j} = \\begin{bmatrix} 0 \\\\ 1 \\end{bmatrix}  \\Rightarrow  \\begin{bmatrix} -\\sin{\\theta} \\\\ \\cos{\\theta} \\end{bmatrix}\n",
    "$$\n",
    "\n",
    "You now can build the rotation matrix using the column vectors where each unit vector lands.\n",
    "\n",
    "$$R = \\begin{bmatrix} \\cos{\\theta} & -\\sin{\\theta} \\\\ \\sin{\\theta} & \\cos{\\theta} \\end{bmatrix}$$\n",
    "\n"
   ]
  },
  {
   "cell_type": "code",
   "execution_count": null,
   "metadata": {},
   "outputs": [],
   "source": [
    "theta = numpy.pi/4\n",
    "R = numpy.array([[numpy.cos(theta), -numpy.sin(theta)], \n",
    "                 [numpy.sin(theta), numpy.cos(theta)]])"
   ]
  },
  {
   "cell_type": "code",
   "execution_count": null,
   "metadata": {},
   "outputs": [],
   "source": [
    "rotated = []\n",
    "for i in range(len(vectors)):\n",
    "    rotated.append(R.dot(numpy.array(ellipse[i])))"
   ]
  },
  {
   "cell_type": "code",
   "execution_count": null,
   "metadata": {},
   "outputs": [],
   "source": [
    "plot_vector(rotated)"
   ]
  },
  {
   "cell_type": "markdown",
   "metadata": {},
   "source": [
    "It certainluy looks like we recovered the picture we obtained originally when applying the transformation $C$ to all our vectors on the unit circle.  \n",
    "\n",
    "Have a look at the two transformations: the scaling $S$ and the rotation $R$. "
   ]
  },
  {
   "cell_type": "code",
   "execution_count": null,
   "metadata": {},
   "outputs": [],
   "source": [
    "plot_linear_transformations(S,R)"
   ]
  },
  {
   "cell_type": "markdown",
   "metadata": {},
   "source": [
    "Observe carefully the plot above. The scaling did stretch the basis vector $\\mathbf{i}$ by $3\\times$ its original length, and it reflected the basis vector $\\mathbf{j}$ while keeping its length at $1$. But something looks off after the second transformation. We know from the discussion above that the vector that lands on the ellipse's semi-major axis didn't change direction. It's not the basis vector $\\mathbf{i}$ that lands there, it's the vector $\\mathbf{v}_1$. What happende to $\\mathbf{v}_1$? "
   ]
  },
  {
   "cell_type": "code",
   "execution_count": null,
   "metadata": {},
   "outputs": [],
   "source": [
    "plot_vector([v1, S.dot(v1)])"
   ]
  },
  {
   "cell_type": "code",
   "execution_count": null,
   "metadata": {},
   "outputs": [],
   "source": [
    "plot_vector([S.dot(v1),R.dot(S.dot(v1))])"
   ]
  },
  {
   "cell_type": "markdown",
   "metadata": {},
   "source": [
    "Yikes! Our visual intuition played us a trick, because certainly the transformation $A$ is not the same as $R\\,S$ (scaling first, then rotating: remember to read that right-to-left). What went wrong?\n",
    "\n",
    "This will blow your mind… to get the same transformation as $A$ we had to _first_ rotate 45 degrees to the right (which leaves the plot of our circle unchanged even though the vectors rotated), _then_ scale, and finally rotate 45 degrees to the left. Look at this sequence of transformations via matrix multiplicaton:"
   ]
  },
  {
   "cell_type": "code",
   "execution_count": null,
   "metadata": {},
   "outputs": [],
   "source": [
    "R@S@numpy.transpose(R)"
   ]
  },
  {
   "cell_type": "markdown",
   "metadata": {},
   "source": [
    "That's certainly the same as $A$!"
   ]
  },
  {
   "cell_type": "code",
   "execution_count": null,
   "metadata": {},
   "outputs": [],
   "source": [
    "print(A)"
   ]
  },
  {
   "cell_type": "code",
   "execution_count": null,
   "metadata": {},
   "outputs": [],
   "source": [
    "plot_linear_transformation(R@S@numpy.transpose(R))"
   ]
  },
  {
   "cell_type": "markdown",
   "metadata": {},
   "source": [
    "We have some explaining to do."
   ]
  },
  {
   "cell_type": "markdown",
   "metadata": {},
   "source": [
    "If the transformation $C$ is equivalent to a scaling, then a rotation, how can it be that the vectors $\\mathbf{v}_1$ and $\\mathbf{v}_2$ landed on their span? (The transformation only scaled them.) Don't we have here that all vectors were rotated by $R$ in our sequence?"
   ]
  },
  {
   "cell_type": "code",
   "execution_count": null,
   "metadata": {},
   "outputs": [],
   "source": [
    "numpy.linalg.eig(A)[0]"
   ]
  },
  {
   "cell_type": "code",
   "execution_count": null,
   "metadata": {},
   "outputs": [],
   "source": []
  },
  {
   "cell_type": "code",
   "execution_count": null,
   "metadata": {},
   "outputs": [],
   "source": []
  },
  {
   "cell_type": "code",
   "execution_count": null,
   "metadata": {},
   "outputs": [],
   "source": []
  },
  {
   "cell_type": "markdown",
   "metadata": {},
   "source": [
    "##### All below : OLD, refactor"
   ]
  },
  {
   "cell_type": "code",
   "execution_count": null,
   "metadata": {},
   "outputs": [],
   "source": [
    "matrix = numpy.array([[1,2], [2,1]])\n",
    "vector1 = numpy.array([1,1])\n",
    "vector2 = numpy.array([-1,1.5])\n",
    "vector3 = numpy.array([2,-2])\n",
    "vector4 = numpy.array([-1,-3])\n",
    "vector5 = numpy.array([-2,-0.5])\n",
    "plot_linear_transformation(matrix, vector1, vector2, vector3, vector4, vector5)"
   ]
  },
  {
   "cell_type": "markdown",
   "metadata": {},
   "source": [
    "After the transformation, the basis vectors rotate to a different angle. The same effect happens to the darkblue, brown and purple vectors. However, the yellow one and the red one stay on the same line as before: the yellow vector $(2,-2)$ lands on $(-2,2)$ and the pink vector $(1,1)$ lands on $(3,3)$. If you plot much more vectors from different angles, you will find that the linear transformation represented by matrix $A$ changes the direction of most of the vectors, while only some can land in the their original direction. These vectors are special to matrix $A$ since they can preserve their orientation."
   ]
  },
  {
   "cell_type": "markdown",
   "metadata": {},
   "source": [
    "These transformed vectors are just scaled by a number. For example, the pink one is streched to 3 times its original length, and the yellow one is flipped over with the same length, so the scale in this case is -1.\n",
    "\n",
    "Knowing that a matrix-vector multiplication is equivalent to performing a linear transformation to the vector, we can represent the observation above in a mathematical way:\n",
    "\n",
    "$$A \\mathbf{v} = \\lambda \\mathbf{v}$$\n",
    "\n",
    "$\\mathbf{v}$ is the original vector and $A \\mathbf{v}$ is the transformed vector, $\\lambda$ denotes the scaling factor.\n",
    "\n",
    "Does it look familiar? Yes, a vector $\\mathbf{v}$ that satisfies this equation is called an eigenvector of matrix $A$ and the corresponding $\\lambda$ is called an eigenvalue of matrix $A$. For the matrix $\\begin{bmatrix} 1 & 2 \\\\ 2 & 1 \\end{bmatrix}$, the first eigenvector is $(1,1)$ pairing with an eigenvalue of 3, the second eigenvector is $(2,-2)$ pairing with an eigenvalue of -1."
   ]
  },
  {
   "cell_type": "markdown",
   "metadata": {},
   "source": [
    "### Compute eigenvalues and eigenvectors in Python\n",
    "\n",
    "We can use python builtin function: `numpy.linalg.eig` to find the eigenvalues of a given matrix."
   ]
  },
  {
   "cell_type": "code",
   "execution_count": null,
   "metadata": {},
   "outputs": [],
   "source": [
    "from numpy.linalg import eig\n",
    "eigenvalues, eigenvectors = eig(matrix)\n",
    "for eigenvalue, eigenvector in zip(eigenvalues, eigenvectors.T):\n",
    "    print(eigenvalue, eigenvector)"
   ]
  },
  {
   "cell_type": "markdown",
   "metadata": {},
   "source": [
    "Why the eigenvectors are different from what we have eyeballed? \n",
    "\n",
    "Let's plot the yellow and pink vector together with the eigenvectors calculated by `numpy.linalg.eig`."
   ]
  },
  {
   "cell_type": "code",
   "execution_count": null,
   "metadata": {},
   "outputs": [],
   "source": [
    "plot_linear_transformation(matrix, vector1, eigenvectors[0], vector3, eigenvectors[1])"
   ]
  },
  {
   "cell_type": "markdown",
   "metadata": {},
   "source": [
    "Both vector $(0.70710678, 0.70710678)$ and $(1,1)$ satisfy $A\\mathbf{v} = \\lambda \\mathbf{v}$ with $\\lambda=3$ and they are on the same line. All vectors on this line will not change direction after transformation, therefore, they are all eigenvectors of matrix $A$. They are just scaled by $\\lambda$ when applying matrix $A$. `numpy.linalg.eig` simply gives us the eigenvectors with a unit length."
   ]
  },
  {
   "cell_type": "markdown",
   "metadata": {},
   "source": [
    "> To-do: visualize the transformation using unit circle, plot eigenvectors on the circle"
   ]
  },
  {
   "cell_type": "markdown",
   "metadata": {},
   "source": [
    "### Eigendecomposition"
   ]
  },
  {
   "cell_type": "markdown",
   "metadata": {},
   "source": [
    "For matrix $A$, we found two sets of eigenvectors:\n",
    "\n",
    "$$\n",
    "\\begin{align*}\n",
    "  A \\mathbf{v_1} = \\lambda_1 \\mathbf{v_1} \\\\\n",
    "  A \\mathbf{v_2} = \\lambda_2 \\mathbf{v_2}\n",
    "\\end{align*}\n",
    "$$\n",
    "\n",
    "The left-hand side $A \\mathbf{v_1}$ and $A \\mathbf{v_2}$ are two column vectors, as well as the right-hand side. By stacking each side of the two equations together, we get: \n",
    "\n",
    "$$\n",
    "  A \\begin{bmatrix}\n",
    "    \\mathbf{v_1} & \\mathbf{v_2}\n",
    "    \\end{bmatrix}\n",
    "    =\n",
    "    \\begin{bmatrix}\n",
    "    \\mathbf{v_1} & \\mathbf{v_2}\n",
    "    \\end{bmatrix}\n",
    "    \\begin{bmatrix}\n",
    "    \\lambda_1 & 0 \\\\\n",
    "    0 & \\lambda_2\n",
    "    \\end{bmatrix}  \n",
    "$$\n",
    "\n",
    "using $Q$ to denote eigenvector matrix and $\\Lambda$ to denote the diagonal matrix of eigenvalues, it becomes:\n",
    "\n",
    "$$\n",
    "  A Q = Q \\Lambda\n",
    "$$\n",
    "\n",
    "then multiply $Q^{-1}$ on both sides:\n",
    "\n",
    "$$\n",
    "  A = Q \\Lambda Q^{-1}\n",
    "$$"
   ]
  },
  {
   "cell_type": "code",
   "execution_count": null,
   "metadata": {},
   "outputs": [],
   "source": [
    "Q = eigenvectors\n",
    "A_decomp = Q @ numpy.diag(eigenvalues) @ numpy.linalg.inv(Q)\n",
    "print(A_decomp)"
   ]
  },
  {
   "cell_type": "markdown",
   "metadata": {},
   "source": [
    "Geometrical interpretation of each component:\n",
    "1. $Q$: change basis\n",
    "2. $\\Lambda$: scale along each new basis vectors\n",
    "3. $Q^{-1}$: change basis back"
   ]
  },
  {
   "cell_type": "code",
   "execution_count": null,
   "metadata": {},
   "outputs": [],
   "source": [
    "# Execute this cell to load the notebook's style sheet, then ignore it\n",
    "from IPython.core.display import HTML\n",
    "css_file = '../style/custom.css'\n",
    "HTML(open(css_file, \"r\").read())"
   ]
  },
  {
   "cell_type": "code",
   "execution_count": null,
   "metadata": {},
   "outputs": [],
   "source": []
  }
 ],
 "metadata": {
  "kernelspec": {
   "display_name": "Python 3",
   "language": "python",
   "name": "python3"
  },
  "language_info": {
   "codemirror_mode": {
    "name": "ipython",
    "version": 3
   },
   "file_extension": ".py",
   "mimetype": "text/x-python",
   "name": "python",
   "nbconvert_exporter": "python",
   "pygments_lexer": "ipython3",
   "version": "3.6.6"
  }
 },
 "nbformat": 4,
 "nbformat_minor": 2
}
