{
 "cells": [
  {
   "cell_type": "code",
   "execution_count": null,
   "metadata": {},
   "outputs": [],
   "source": [
    "import numpy\n",
    "%matplotlib inline\n",
    "from matplotlib import pyplot"
   ]
  },
  {
   "cell_type": "code",
   "execution_count": null,
   "metadata": {},
   "outputs": [],
   "source": [
    "import sys\n",
    "sys.path.append('../scripts/')\n",
    "\n",
    "# Our helper, with the functions: \n",
    "# plot_vector, plot_linear_transformation, plot_linear_transformations\n",
    "from plot_helper import *"
   ]
  },
  {
   "cell_type": "markdown",
   "metadata": {},
   "source": [
    "## Eigenvectors along semi-axes of an ellipse\n",
    "\n",
    "In the previous lesson, we saw that a unit circle, by a 2D linear transformation, lands on an ellipse. The semi-major and semi-minor axes of the ellipse are in the direction of the eigenvectors of the transformation matrix. Let's revisit that.\n",
    "\n",
    "\n",
    "We'll work with the matrix $A = \\begin{bmatrix} 1 & 2 \\\\ 2 & 1 \\end{bmatrix}$."
   ]
  },
  {
   "cell_type": "code",
   "execution_count": null,
   "metadata": {},
   "outputs": [],
   "source": [
    "A = numpy.array([[1,2], [2,1]])\n",
    "\n",
    "plot_linear_transformation(A)"
   ]
  },
  {
   "cell_type": "markdown",
   "metadata": {},
   "source": [
    "Using the same process as in the previous lesson, let's now plot a set of vectors of unit length (whose heads trace the unit circle), then visualize the transformed vectors. After that, we compute the length of the semi-major and semi-minor axes of the ellipse as the norm of the longest and shortest vectors in our set."
   ]
  },
  {
   "cell_type": "code",
   "execution_count": null,
   "metadata": {},
   "outputs": [],
   "source": [
    "alpha = numpy.linspace(0, 2*numpy.pi, 41)\n",
    "vectors = list(zip(numpy.cos(alpha), numpy.sin(alpha)))\n",
    "newvectors = []\n",
    "for i in range(len(vectors)):\n",
    "    newvectors.append(A.dot(numpy.array(vectors[i])))\n",
    "\n",
    "plot_vector(vectors)"
   ]
  },
  {
   "cell_type": "code",
   "execution_count": null,
   "metadata": {},
   "outputs": [],
   "source": [
    "plot_vector(newvectors)"
   ]
  },
  {
   "cell_type": "code",
   "execution_count": null,
   "metadata": {},
   "outputs": [],
   "source": [
    "lengths = []\n",
    "for i in range(len(newvectors)):\n",
    "    lengths.append(numpy.linalg.norm(newvectors[i]))\n",
    "semi_major = max(lengths)\n",
    "print('Semi-major axis',semi_major)\n",
    "semi_minor = min(lengths)\n",
    "print('Semi-minor axis',semi_minor)\n",
    "\n",
    "u1 = numpy.array([semi_major/numpy.sqrt(2), semi_major/numpy.sqrt(2)])\n",
    "u2 = numpy.array([-semi_minor/numpy.sqrt(2), semi_minor/numpy.sqrt(2)])"
   ]
  },
  {
   "cell_type": "markdown",
   "metadata": {},
   "source": [
    "OK, cool. In our first lesson, we saw some special transformations: _rotation_, _shear_, and _scaling_. \n",
    "Looking at the effect of the matrix transformation $A$ on the unit circle, we might imagine obtaining the same effect by first scaling the unit vectors—stretching $\\mathbf{i}$ to $3\\times$ its length and leaving $\\mathbf{j}$ with length $1$—and then rotating by 45 degrees counter-clockwise.\n",
    "We have also learned that applying linear transformations in sequence like this amounts to matrix multiplication.\n",
    "\n",
    "Let's try it. We first define the scaling transformation $S$, and apply it to the vectors mapping the unit circle. "
   ]
  },
  {
   "cell_type": "code",
   "execution_count": null,
   "metadata": {},
   "outputs": [],
   "source": [
    "S = numpy.array([[3,0], [0,1]])\n",
    "print(S)"
   ]
  },
  {
   "cell_type": "code",
   "execution_count": null,
   "metadata": {},
   "outputs": [],
   "source": [
    "ellipse = []\n",
    "for i in range(len(vectors)):\n",
    "    ellipse.append(S.dot(numpy.array(vectors[i])))\n",
    "\n",
    "plot_vector(ellipse)"
   ]
  },
  {
   "cell_type": "markdown",
   "metadata": {},
   "source": [
    "We figured out the matrix for a 90-degree rotation in our first lesson. But how do you rotate by any angle? You never have to memorize the \"formula\" for a rotation matrix. Just think about where the unit vectors land. Look at the figure below, and follow along on a piece of paper if you need to.\n",
    "\n",
    "<img src=\"../images/rotation.png\" style=\"width: 300px;\"/> \n",
    "#### Rotation of unit vectors by an angle $\\theta$ to the left.\n",
    "\n",
    "$$\n",
    "\\mathbf{i} = \\begin{bmatrix} 1 \\\\ 0 \\end{bmatrix}  \\Rightarrow  \\begin{bmatrix} \\cos{\\theta} \\\\ \\sin{\\theta} \\end{bmatrix} \\\\\n",
    "\\mathbf{j} = \\begin{bmatrix} 0 \\\\ 1 \\end{bmatrix}  \\Rightarrow  \\begin{bmatrix} -\\sin{\\theta} \\\\ \\cos{\\theta} \\end{bmatrix}\n",
    "$$\n",
    "\n",
    "You now can build the rotation matrix using the column vectors where each unit vector lands.\n",
    "\n",
    "$$R = \\begin{bmatrix} \\cos{\\theta} & -\\sin{\\theta} \\\\ \\sin{\\theta} & \\cos{\\theta} \\end{bmatrix}$$\n",
    "\n",
    "Great. Let's define a matrix $R$ that rotates vectors by 45 degrees."
   ]
  },
  {
   "cell_type": "code",
   "execution_count": null,
   "metadata": {},
   "outputs": [],
   "source": [
    "theta = numpy.pi/4\n",
    "R = numpy.array([[numpy.cos(theta), -numpy.sin(theta)], \n",
    "                 [numpy.sin(theta), numpy.cos(theta)]])"
   ]
  },
  {
   "cell_type": "markdown",
   "metadata": {},
   "source": [
    "We can apply this rotation now to the `ellipse` vectors, and plot the result."
   ]
  },
  {
   "cell_type": "code",
   "execution_count": null,
   "metadata": {},
   "outputs": [],
   "source": [
    "rotated = []\n",
    "for i in range(len(vectors)):\n",
    "    rotated.append(R.dot(numpy.array(ellipse[i])))\n",
    "\n",
    "plot_vector(rotated)"
   ]
  },
  {
   "cell_type": "markdown",
   "metadata": {},
   "source": [
    "It certainluy _looks_ like we recovered the picture we obtained originally when applying the transformation $A$ to all our vectors on the unit circle.  \n",
    "\n",
    "But have a look at the two transformations—the scaling $S$ and the rotation $R$—applied in sequence:"
   ]
  },
  {
   "cell_type": "code",
   "execution_count": null,
   "metadata": {},
   "outputs": [],
   "source": [
    "plot_linear_transformations(S,R)"
   ]
  },
  {
   "cell_type": "markdown",
   "metadata": {},
   "source": [
    "Observe carefully the plot above. The scaling did stretch the basis vector $\\mathbf{i}$ by $3\\times$ its original length. It also left the basis vector $\\mathbf{j}$ with its length equal to $1$. But something looks _really_ off after the second transformation. \n",
    "\n",
    "We know from the discussion in the previous lesson that the vector that lands on the ellipse's semi-major axis doesn't change direction. It's _not_ the basis vector $\\mathbf{i}$ that lands there, it's the vector $\\mathbf{v}_1$ that satisfies: \n",
    "\n",
    "$$ A \\mathbf{v}_1 = s_1 \\mathbf{v}_1 $$\n",
    "\n",
    "Recalling the process we followed in the previous lesson, we find that vector, and plot it together with its transformed version:"
   ]
  },
  {
   "cell_type": "code",
   "execution_count": null,
   "metadata": {},
   "outputs": [],
   "source": [
    "A_inv = numpy.linalg.inv(A)\n",
    "v1 = A_inv.dot(u1)\n",
    "plot_vector([u1,v1])"
   ]
  },
  {
   "cell_type": "markdown",
   "metadata": {},
   "source": [
    "Right. The unit vector that was aligned with the 45-degree line got transformed onto the semi-major axis of the ellipse, without being rotated. This is the effect of the matrix $A$ on $\\mathbf{v}_1$: _it is just scaled_.\n",
    "\n",
    "Now, let's look at the sequence of transformations $S$ and $R$ applied to $\\mathbf{v}_1$. We apply the transformations by matrix-vector multiplication, and in the second step, we use composition of transformations."
   ]
  },
  {
   "cell_type": "code",
   "execution_count": null,
   "metadata": {},
   "outputs": [],
   "source": [
    "plot_vector([v1, S.dot(v1)])"
   ]
  },
  {
   "cell_type": "code",
   "execution_count": null,
   "metadata": {},
   "outputs": [],
   "source": [
    "plot_vector([S.dot(v1),R.dot(S.dot(v1))])"
   ]
  },
  {
   "cell_type": "markdown",
   "metadata": {},
   "source": [
    "That is definitely _not_ what we expected. Oh well. It seemed like a good idea at the time, but the scaling $S$ and the rotation $R$ applied in sequence are _not_ equivalent to the transforamtion $A$. \n",
    "\n",
    "And look at what happens to the vector aligned with the ellipse's semi-minor axis: it gets flipped in direction (i.e., _reflected_). Our visual intuition was not able to anticipate that."
   ]
  },
  {
   "cell_type": "code",
   "execution_count": null,
   "metadata": {},
   "outputs": [],
   "source": [
    "v2 = A_inv.dot(u2)\n",
    "plot_vector([u2,v2])"
   ]
  },
  {
   "cell_type": "markdown",
   "metadata": {},
   "source": [
    "OK. This will blow your mind… to get the same transformation as $A$ we had to _first_ rotate 45 degrees to the right (which leaves the plot of our circle unchanged even though the vectors rotated), _then_ scale, and finally rotate 45 degrees to the left. \n",
    "\n",
    "We will look at this sequence of transformations via matrix multiplicaton. But first note that a rotation by a negative angle $\\theta$ is achieved by the matrix:\n",
    "\n",
    "$$R^T = \\begin{bmatrix} \\cos{\\theta} & \\sin{\\theta} \\\\ -\\sin{\\theta} & \\cos{\\theta} \\end{bmatrix}$$\n",
    "\n",
    "Check using a piece of paper that the columns of this matrix make sense for a negavie"
   ]
  },
  {
   "cell_type": "code",
   "execution_count": null,
   "metadata": {},
   "outputs": [],
   "source": [
    "R @ S @ numpy.transpose(R)"
   ]
  },
  {
   "cell_type": "markdown",
   "metadata": {},
   "source": [
    "That's certainly the same as $A$!"
   ]
  },
  {
   "cell_type": "code",
   "execution_count": null,
   "metadata": {},
   "outputs": [],
   "source": [
    "print(A)"
   ]
  },
  {
   "cell_type": "code",
   "execution_count": null,
   "metadata": {},
   "outputs": [],
   "source": [
    "plot_linear_transformation(R@S@numpy.transpose(R))"
   ]
  },
  {
   "cell_type": "markdown",
   "metadata": {},
   "source": [
    "We have some explaining to do. Let's visualize the transformation $R^T$, adding to our plot the unit vectors that were aligned with the eigenvectors, $\\mathbf{v}_1$ and $\\mathbf{v}_2$. You see that they land on the coordinate axes."
   ]
  },
  {
   "cell_type": "code",
   "execution_count": null,
   "metadata": {},
   "outputs": [],
   "source": [
    "plot_linear_transformation(numpy.transpose(R), v1, v2)"
   ]
  },
  {
   "cell_type": "markdown",
   "metadata": {},
   "source": [
    "Now let's visualize applying  the scaling transformation to these vectors, and applying the rotation matrix after that."
   ]
  },
  {
   "cell_type": "code",
   "execution_count": null,
   "metadata": {},
   "outputs": [],
   "source": [
    "e1 = numpy.transpose(R).dot(v1)\n",
    "e2 = numpy.transpose(R).dot(v2)\n",
    "\n",
    "plot_linear_transformation(S, e1, e2)"
   ]
  },
  {
   "cell_type": "code",
   "execution_count": null,
   "metadata": {},
   "outputs": [],
   "source": [
    "plot_linear_transformation(R, S.dot(e1), S.dot(e2))"
   ]
  },
  {
   "cell_type": "markdown",
   "metadata": {},
   "source": [
    "Satisfied? The vectors $\\mathbf{v}_1$ and $\\mathbf{v}_2$ are first rotated to land on the axes, are then scaled, and are finally rotated back to their original direction. This has the same effect as the transformation $A$. In other words:\n",
    "\n",
    "\n",
    "$$ A\\mathbf{v} = R\\, S\\, R^T \\mathbf{v}\n",
    "$$\n",
    "\n",
    "The"
   ]
  },
  {
   "cell_type": "markdown",
   "metadata": {},
   "source": [
    "### Compute eigenvalues and eigenvectors in Python\n",
    "\n",
    "We can use python builtin function: `numpy.linalg.eig` to find the eigenvalues of a given matrix."
   ]
  },
  {
   "cell_type": "code",
   "execution_count": null,
   "metadata": {},
   "outputs": [],
   "source": [
    "numpy.linalg.eig(A)[0]"
   ]
  },
  {
   "cell_type": "code",
   "execution_count": null,
   "metadata": {},
   "outputs": [],
   "source": [
    "from numpy.linalg import eig\n",
    "eigenvalues, eigenvectors = eig(matrix)\n",
    "for eigenvalue, eigenvector in zip(eigenvalues, eigenvectors.T):\n",
    "    print(eigenvalue, eigenvector)"
   ]
  },
  {
   "cell_type": "markdown",
   "metadata": {},
   "source": [
    "### Eigendecomposition"
   ]
  },
  {
   "cell_type": "markdown",
   "metadata": {},
   "source": [
    "For matrix $A$, we found two sets of eigenvectors:\n",
    "\n",
    "$$\n",
    "\\begin{align*}\n",
    "  A \\mathbf{v_1} = \\lambda_1 \\mathbf{v_1} \\\\\n",
    "  A \\mathbf{v_2} = \\lambda_2 \\mathbf{v_2}\n",
    "\\end{align*}\n",
    "$$\n",
    "\n",
    "The left-hand side $A \\mathbf{v_1}$ and $A \\mathbf{v_2}$ are two column vectors, as well as the right-hand side. By stacking each side of the two equations together, we get: \n",
    "\n",
    "$$\n",
    "  A \\begin{bmatrix}\n",
    "    \\mathbf{v_1} & \\mathbf{v_2}\n",
    "    \\end{bmatrix}\n",
    "    =\n",
    "    \\begin{bmatrix}\n",
    "    \\mathbf{v_1} & \\mathbf{v_2}\n",
    "    \\end{bmatrix}\n",
    "    \\begin{bmatrix}\n",
    "    \\lambda_1 & 0 \\\\\n",
    "    0 & \\lambda_2\n",
    "    \\end{bmatrix}  \n",
    "$$\n",
    "\n",
    "using $Q$ to denote eigenvector matrix and $\\Lambda$ to denote the diagonal matrix of eigenvalues, it becomes:\n",
    "\n",
    "$$\n",
    "  A Q = Q \\Lambda\n",
    "$$\n",
    "\n",
    "then multiply $Q^{-1}$ on both sides:\n",
    "\n",
    "$$\n",
    "  A = Q \\Lambda Q^{-1}\n",
    "$$"
   ]
  },
  {
   "cell_type": "code",
   "execution_count": null,
   "metadata": {},
   "outputs": [],
   "source": [
    "Q = eigenvectors\n",
    "A_decomp = Q @ numpy.diag(eigenvalues) @ numpy.linalg.inv(Q)\n",
    "print(A_decomp)"
   ]
  },
  {
   "cell_type": "markdown",
   "metadata": {},
   "source": [
    "Geometrical interpretation of each component:\n",
    "1. $Q$: change basis\n",
    "2. $\\Lambda$: scale along each new basis vectors\n",
    "3. $Q^{-1}$: change basis back"
   ]
  },
  {
   "cell_type": "code",
   "execution_count": null,
   "metadata": {},
   "outputs": [],
   "source": [
    "# Execute this cell to load the notebook's style sheet, then ignore it\n",
    "from IPython.core.display import HTML\n",
    "css_file = '../style/custom.css'\n",
    "HTML(open(css_file, \"r\").read())"
   ]
  }
 ],
 "metadata": {
  "kernelspec": {
   "display_name": "Python 3",
   "language": "python",
   "name": "python3"
  },
  "language_info": {
   "codemirror_mode": {
    "name": "ipython",
    "version": 3
   },
   "file_extension": ".py",
   "mimetype": "text/x-python",
   "name": "python",
   "nbconvert_exporter": "python",
   "pygments_lexer": "ipython3",
   "version": "3.6.6"
  }
 },
 "nbformat": 4,
 "nbformat_minor": 2
}
