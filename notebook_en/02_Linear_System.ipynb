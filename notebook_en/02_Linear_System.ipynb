{
 "cells": [
  {
   "cell_type": "code",
   "execution_count": null,
   "metadata": {},
   "outputs": [],
   "source": [
    "import numpy\n",
    "%matplotlib notebook\n",
    "from matplotlib import pyplot"
   ]
  },
  {
   "cell_type": "code",
   "execution_count": null,
   "metadata": {},
   "outputs": [],
   "source": [
    "import sys\n",
    "sys.path.append('../scripts/')\n",
    "\n",
    "# Our helper, with the functions: \n",
    "# plot_vector, plot_linear_transformation, plot_linear_transformations\n",
    "from plot_helper import *"
   ]
  },
  {
   "cell_type": "markdown",
   "metadata": {},
   "source": [
    "## A matrix is a linear transformation\n",
    "\n",
    "In the first lesson of this module, we saw that a matrix corresponds to a linear transformation. For example, the matrix \n",
    "$$A = \\begin{bmatrix} 1 & 1 \\\\ -1 & 1 \\end{bmatrix}$$\n",
    "\n",
    "via matrix-vector multiplication, will transform the unit vectors to its columns:\n",
    "\n",
    "$$\n",
    "\\mathbf{i} = \\begin{bmatrix} 1 \\\\ 0 \\end{bmatrix}  \\Rightarrow  \\begin{bmatrix} 1 \\\\ -1 \\end{bmatrix} \\\\\n",
    "\\mathbf{j} = \\begin{bmatrix} 0 \\\\ 1 \\end{bmatrix}  \\Rightarrow  \\begin{bmatrix} 1 \\\\ 1 \\end{bmatrix}\n",
    "$$\n",
    "\n",
    "Let's use our helper function `plot_linear_transformation()` to visualize what this matrix does to the unit vectors and a grid on the 2D plane:"
   ]
  },
  {
   "cell_type": "code",
   "execution_count": null,
   "metadata": {},
   "outputs": [],
   "source": [
    "A = numpy.array([[1,1], [-1,1]])\n",
    "plot_linear_transformation(A)"
   ]
  },
  {
   "cell_type": "markdown",
   "metadata": {},
   "source": [
    "You see that the transformation $A$ is a 45-degree clockwise rotation, plus a scaling by a factor that stretched the vectors $\\mathbf{i}$ and $\\mathbf{j}$ (shown in green and red) into vectors of more length. \n",
    "How much is the scaling factor?\n",
    "\n",
    "To start, we'll create the basis vectors and the vectors where they land, $\\mathbf{a}$ and $\\mathbf{b}$, corresponding to the columns of $A$."
   ]
  },
  {
   "cell_type": "code",
   "execution_count": null,
   "metadata": {},
   "outputs": [],
   "source": [
    "i = numpy.array([1,0])\n",
    "j = numpy.array([0,1])"
   ]
  },
  {
   "cell_type": "code",
   "execution_count": null,
   "metadata": {},
   "outputs": [],
   "source": [
    "a = numpy.array([1,-1])\n",
    "b = numpy.array([1, 1])"
   ]
  },
  {
   "cell_type": "markdown",
   "metadata": {},
   "source": [
    "We can resort to geometry to compute the length of the vectors $\\mathbf{i}$ and (its transformation) $\\mathbf{a}$, and compare them. But first, a plot of the two vectors helps us visualize."
   ]
  },
  {
   "cell_type": "code",
   "execution_count": null,
   "metadata": {},
   "outputs": [],
   "source": [
    "vectors = [i, a]\n",
    "plot_vector(vectors)"
   ]
  },
  {
   "cell_type": "markdown",
   "metadata": {},
   "source": [
    "For $\\mathbf{i}$, we already know the length: it's a unit vector for a reason! We can also see right on the plot that its length is $1.0$. In the case of $\\mathbf{a}$, we can imagine a right triangle where $\\mathbf{a}$ is the hypothenuse, and remember the Pythagorean theorem for its length, which we also call the **norm** of the vector:\n",
    "\n",
    "$$ ||\\mathbf{a}||= \\sqrt{1^2 + 1^2} = \\sqrt{2}$$\n",
    "\n",
    "The NumPy sub-package [`numpy.linalg`](https://docs.scipy.org/doc/numpy/reference/routines.linalg.html#module-numpy.linalg) contains many useful functions, including one to compute the norm of a vector (or matrix). Try it with $\\mathbf{i}$ and $\\mathbf{a}$."
   ]
  },
  {
   "cell_type": "code",
   "execution_count": null,
   "metadata": {},
   "outputs": [],
   "source": [
    "numpy.linalg.norm(i)"
   ]
  },
  {
   "cell_type": "code",
   "execution_count": null,
   "metadata": {},
   "outputs": [],
   "source": [
    "numpy.linalg.norm(a)"
   ]
  },
  {
   "cell_type": "code",
   "execution_count": null,
   "metadata": {},
   "outputs": [],
   "source": [
    "numpy.sqrt(2)"
   ]
  },
  {
   "cell_type": "markdown",
   "metadata": {},
   "source": [
    "Happy? \n",
    "After the transformation, the two unit vectors got scaled by $\\sqrt{2}$, and each grid box in the transformed plot has a side length of $\\sqrt{2}$. \n",
    "\n",
    "Consider an arbitrary vector on the plane, $\\mathbf{x} = \\begin{bmatrix} x \\\\ y \\end{bmatrix}$.\n",
    "\n",
    "Through the matrix-vector multiplication $A\\mathbf{x}$, the vector lands on the transformed space onto the combination of the matrix columns scaled by the vector components:\n",
    "\n",
    "$$\n",
    "   A\\mathbf{x} = x\\,\\mathbf{a} + y\\,\\mathbf{b}\n",
    "$$\n",
    "\n",
    "This transformation rotates the vector by 45 degrees clockwise, and scales its length by $\\sqrt{2}$.\n",
    "The reverse action would be to rotate the space 45 degrees counter-clockwise, then scale all vectors by $\\frac{1}{\\sqrt{2}}$. "
   ]
  },
  {
   "cell_type": "markdown",
   "metadata": {},
   "source": [
    "At the end of our previous lesson, we learned to compute the inverse of a matrix using the `numpy.linalg` sub-package of NumPy, and we made a plot of a transformation and its inverse with our helper functions. \n",
    "Let's see how that looks for $A$."
   ]
  },
  {
   "cell_type": "code",
   "execution_count": null,
   "metadata": {},
   "outputs": [],
   "source": [
    "A_inv = numpy.linalg.inv(A)\n",
    "plot_linear_transformations(A, A_inv)"
   ]
  },
  {
   "cell_type": "markdown",
   "metadata": {},
   "source": [
    "Alright! Like we expected, the two transformations in sequence bring all vector right back to where they started.\n",
    "This reflects that the matrix multiplication $A^{-1}A$ is equal to the identity $I$.\n",
    "\n",
    "##### Note:\n",
    "\n",
    "In the previous lesson, we used the command \n",
    "```Python\n",
    "from numpy.linalg import inv\n",
    "```\n",
    "This creates a shortcut `inv()` to [`numpy.linalg.inv()`](https://docs.scipy.org/doc/numpy/reference/generated/numpy.linalg.inv.html#numpy.linalg.inv), to save us some typing. But all the functions of `numpy.linalg` are already available to us when we import NumPy, and this command is not necessary. It's just a convenience—and sometimes a matter of style: many Pythonistas like to say that \"explicit is better than implicit\" and type the long name, while others savagely try to cut down on typing.\n",
    "\n",
    "Let's visualize the action of $A^{-1}$ (the inverse of $A$) on its own:"
   ]
  },
  {
   "cell_type": "code",
   "execution_count": null,
   "metadata": {},
   "outputs": [],
   "source": [
    "plot_linear_transformation(A_inv)"
   ]
  },
  {
   "cell_type": "markdown",
   "metadata": {},
   "source": [
    "As we expected, $A^{-1}$ corresponds to a rotation by 45 degrees to the left, and a scaling factor that shrank the unit vectors. By how much? Let's see."
   ]
  },
  {
   "cell_type": "code",
   "execution_count": null,
   "metadata": {},
   "outputs": [],
   "source": [
    "print(A_inv)"
   ]
  },
  {
   "cell_type": "markdown",
   "metadata": {},
   "source": [
    "This matrix takes the unit vector $\\mathbf{i}$ to a vector with coordiantes $(0.5, 0.5)$. Using the Pythagorean theorem for triangles, we get the new length of the vector as $\\sqrt{0.5^2+0.5^2}=\\frac{1}{\\sqrt{2}}$, as we expected.\n",
    "\n",
    "Knowing the relationship between a matrix and its underlying transformation, we could visualize the reverse transformation of $A$ and might have easily computed $A^{-1}$ by hand, in this case."
   ]
  },
  {
   "cell_type": "markdown",
   "metadata": {},
   "source": [
    "## A matrix is a system of equations\n",
    "\n",
    "For any vector $\\mathbf{c}$ in the transformed space, can we find out what vector it came from before the transformation? That is, we'd like to find the vector $\\mathbf{x}$ such that \n",
    "\n",
    "$$ A\\mathbf{x}=\\mathbf{c} $$\n",
    "\n",
    "Take, for example, $\\mathbf{c} = \\begin{bmatrix} 1 \\\\ 5 \\end{bmatrix}$ and the components of $\\mathbf{x}$ as $(x, y)$. \n",
    "\n",
    "The vector $\\mathbf{x}$ lands on $\\mathbf{c}$ via the transformation $A$—that is, via the matrix-vector multiplication, which means a linear combination of the columns of $A$ scaled by the components of $\\mathbf{x}$:\n",
    "\n",
    "$$A\\mathbf{x}= x \\begin{bmatrix} 1 \\\\ -1 \\end{bmatrix}+ y \\begin{bmatrix} 1 \\\\ 1 \\end{bmatrix} = \\begin{bmatrix} 1 \\\\ 5 \\end{bmatrix}$$\n",
    "\n",
    "(Using the matrix $A$ defined above.) We're asking to find the scalars in a linear combination of the column vectors $\\mathbf{a}$ and $\\mathbf{b}$ that give $\\mathbf{c}$.\n"
   ]
  },
  {
   "cell_type": "markdown",
   "metadata": {},
   "source": [
    "Writing this vector equation component-wise, we get two equations for the components $x$ and $y$:\n",
    "\n",
    "$$\n",
    "\\begin{align*}\n",
    "x + y &= 1 \\\\\n",
    "-x + y &= 5\n",
    "\\end{align*}\n",
    "$$\n",
    "\n",
    "So, the question we are asking is answered by solving a system of two linear equations, for two unknowns! \n",
    "\n",
    "We already know how to answer it by means of the inverse linear transformation, via the matrix-vector multiplication $A^{-1}\\mathbf{c}$. We can do this in NumPy:"
   ]
  },
  {
   "cell_type": "code",
   "execution_count": null,
   "metadata": {},
   "outputs": [],
   "source": [
    "c = numpy.array([1,5])\n",
    "x = A_inv.dot(c)\n",
    "print(x)"
   ]
  },
  {
   "cell_type": "markdown",
   "metadata": {},
   "source": [
    "The vector $\\mathbf{x}$ is the **solution** of the linear system of equations. Look at the two linear equations again… we can isolate $y$ in each case, to re-write them as equations for lines on the 2D space, i.e., in the form $y=mx+b$:\n",
    "\n",
    "\n",
    "$$\n",
    "\\begin{align*}\n",
    "y &= 1 - x\\\\\n",
    "y &= 5 + x\n",
    "\\end{align*}\n",
    "$$\n",
    "\n",
    "To visualize these two lines, let's define an array of $x$-values, and then plot a line with each of these equations. We also add a marker at the point corresponding to the coordinates of the vector $\\mathbf{x}$."
   ]
  },
  {
   "cell_type": "code",
   "execution_count": null,
   "metadata": {},
   "outputs": [],
   "source": [
    "xvalues = numpy.linspace(-4,2)\n",
    "m1, b1, m2, b2, = -1, 1, 1, 5\n",
    "\n",
    "pyplot.figure(figsize=(2,2))\n",
    "pyplot.plot(xvalues, m1*xvalues+b1)\n",
    "pyplot.plot(xvalues, m2*xvalues+b2)\n",
    "pyplot.scatter(x[0],x[1])\n",
    "pyplot.box(False)\n",
    "pyplot.grid(True);"
   ]
  },
  {
   "cell_type": "markdown",
   "metadata": {},
   "source": [
    "You see that the coordinates of the solution vector $\\mathbf{x}$ are right at the intersection of the two lines that correspond to the equations in the linear system. Indeed, the point $(-2,3)$ belongs to both lines, and satisfies both linear equations.\n",
    "\n",
    "From this perspective, we look at the linear system row-by-row, and interpret each as a line on 2D space. It may even be a more familiar perspective to you. But it's less helpful when you start to think about systems of more dimensions!\n",
    "\n",
    "NumPy also has a built-in function to solve a linear system of equations:  [`numpy.linalg.solve()`](https://docs.scipy.org/doc/numpy/reference/generated/numpy.linalg.solve.html#numpy.linalg.solve)—we give it the matrix, and the known vector on the right-hand side of the equation:"
   ]
  },
  {
   "cell_type": "code",
   "execution_count": null,
   "metadata": {},
   "outputs": [],
   "source": [
    "x = numpy.linalg.solve(A, c)\n",
    "print(x)"
   ]
  },
  {
   "cell_type": "markdown",
   "metadata": {},
   "source": [
    "Suppose that we now want to solve a linear system with coefficient matrix $B$,\n",
    "\n",
    "$$B = \\begin{bmatrix} -2 & -1 \\\\ 1 & 0.5 \\end{bmatrix}$$\n",
    "\n",
    "Let's define this matrix as a NumPy array, and then visualize the transformation."
   ]
  },
  {
   "cell_type": "code",
   "execution_count": null,
   "metadata": {},
   "outputs": [],
   "source": [
    "B = numpy.array([[-2,-1], [1,0.5]])\n",
    "print(B)"
   ]
  },
  {
   "cell_type": "code",
   "execution_count": null,
   "metadata": {},
   "outputs": [],
   "source": [
    "plot_linear_transformation(B)"
   ]
  },
  {
   "cell_type": "markdown",
   "metadata": {},
   "source": [
    "Yikes! That's not good. We encountered this in the previous lesson, when we plotted 30 vectors made as (random) linear combinations of the column vectors:\n",
    "\n",
    "$$\n",
    "   \\mathbf{a} = \\left[ \\begin{array}{c} -2 \\\\ 1  \\end{array} \\right], \\quad\n",
    "   \\mathbf{d} = \\left[ \\begin{array}{c} -1 \\\\ 0.5  \\end{array} \\right] \n",
    "$$\n",
    "\n",
    "These two vectors are co-linear, i.e., their span is just a line.\n",
    "If you tried to obtain the inverse of $B$ using `numpy.linalg.inv(B)`, you will see the error message:\n",
    "```Python\n",
    "LinAlgError: Singular matrix\n",
    "```\n",
    "\n",
    "And if you try to solve the linear system with `numpy.linalg.solve(B, c)`, you will see the same error message.\n",
    "We can try to figure out what is happening using the row-by-row perspective, by which the two line equations are: \n",
    "\n",
    "$$\n",
    "\\begin{align*}\n",
    "y &= -1 - 2x\\\\\n",
    "y &= (5 - x)/0.5\n",
    "\\end{align*}\n",
    "$$"
   ]
  },
  {
   "cell_type": "code",
   "execution_count": null,
   "metadata": {},
   "outputs": [],
   "source": [
    "xvalues = numpy.linspace(-4,10)\n",
    "m1, b1, m2, b2, = -2, -1, -2, 10\n",
    "\n",
    "pyplot.figure(figsize=(4,2))\n",
    "pyplot.plot(xvalues, m1*xvalues+b1)\n",
    "pyplot.plot(xvalues, m2*xvalues+b2)\n",
    "pyplot.box(False)\n",
    "pyplot.grid(True);"
   ]
  },
  {
   "cell_type": "markdown",
   "metadata": {},
   "source": [
    "The two lines are parallel and they thus never intersect: the system has no solution, or is **inconsistent**. If we were to use a right-hand side vector that is _itself_ colinear with the column vectors of $B$, then the system would have infinite solutions (the two equations are the same), or be **underdetermined**."
   ]
  },
  {
   "cell_type": "markdown",
   "metadata": {},
   "source": [
    "## Linear transformations in 3D space\n",
    "\n",
    "The idea of a matrix as a linear transformation applies in higher dimensions as well. We have written a helper function, `plot_3d_linear_transformation()` that takes a $3\\times 3$ matrix, and draws a set of grid lines in perspective, before and after the transformation. \n",
    "\n",
    "Let's try it with this matrix:\n",
    "\n",
    "$M = \\begin{bmatrix}\n",
    "             1 & 0 & 1 \\\\\n",
    "             1 & 1 & 0 \\\\\n",
    "             -1 & 1 & 1\n",
    "             \\end{bmatrix} $\n",
    "\n",
    "Notice, again, that we create the matrix as a NumPy array with a list of rows."
   ]
  },
  {
   "cell_type": "code",
   "execution_count": null,
   "metadata": {},
   "outputs": [],
   "source": [
    "M = numpy.array([[1,0,1], [1,1,0], [-1,1,1]])\n",
    "print(M)\n",
    "plot_3d_linear_transformation(M)"
   ]
  },
  {
   "cell_type": "markdown",
   "metadata": {},
   "source": [
    "With a 3D transformation, it's a little harder to figure out from the visualization what the matrix is doing. But the idea of a transformamtionn as a matrix-vector multiplication, and in turn as a linear combination of the matrix columns, is the same.\n",
    "\n",
    "Let's consider the multiplicaion of $M$ with a 3D vector $\\mathbf{x}=\\begin{bmatrix}\n",
    "             x \\\\\n",
    "             y \\\\\n",
    "             z \\end{bmatrix}$\n",
    "\n",
    "$$\n",
    "  M \\mathbf{x} = x \\, \\begin{bmatrix}1 \\\\ 1 \\\\-1 \\end{bmatrix}+\n",
    "                 y \\, \\begin{bmatrix}0 \\\\ 1 \\\\ 1 \\end{bmatrix}+\n",
    "                 z \\, \\begin{bmatrix}1 \\\\ 0 \\\\ 1 \\end{bmatrix}\n",
    "$$\n",
    "\n",
    "The transformation will take the unit vector $\\mathbf{i}$, which in 3D has coordinates $(1, 0, 0)$ to the first column of the matrix. We can make a mental effort (or draw a picture) to imagine that the vector rotates around the $z$ axis to touch with its head the grid plane $y=1$, then rotates downwards to $z=-1$. \n",
    "\n",
    "##### Challenge:\n",
    "> Make a sketch on a piece of paper of how each unit vector is transformed."
   ]
  },
  {
   "cell_type": "markdown",
   "metadata": {},
   "source": [
    "## 3D system of linear equations\n",
    "\n",
    "Suppose that we have a vector $\\mathbf{u}$ in the transformed space, and we want to find out the vector it came from in the original space. Just like in the 2D case, this question is ansswered by solving a linear system of equations.\n",
    "\n",
    "Write the multiplication $M\\mathbf{x}$ above element-wise, and take the right-hand-side vector as $(-1, 0, 2)$:\n",
    "\n",
    "\n",
    "$$\n",
    "\\begin{align*}\n",
    "x + z &= -1 \\\\\n",
    "x + y   &= 0 \\\\\n",
    "-x + y + z &= 2\n",
    "\\end{align*}\n",
    "$$\n",
    "\n",
    "We can solve this system using `numpy.linalg.solve()`, as before:"
   ]
  },
  {
   "cell_type": "code",
   "execution_count": null,
   "metadata": {},
   "outputs": [],
   "source": [
    "u = numpy.array([-1, 0, 2])\n",
    "x = numpy.linalg.solve(M, u)\n",
    "print(x)"
   ]
  },
  {
   "cell_type": "markdown",
   "metadata": {},
   "source": [
    "The matrix $M$ takes a vector $\\mathbf{x}$ with coordinates $(-1, 1, 0)$ and transforms it to a vector $\\mathbf{u}$ with coordinates $(-1, 0, 2)$.\n",
    "\n",
    "We can write the general system as $M\\mathbf{x} = \\mathbf{u}$, and sometimes say that $\\mathbf{x}$ is the _input vector_ and $\\mathbf{u}$ the _output vector_ of the transformation $M$."
   ]
  },
  {
   "cell_type": "markdown",
   "metadata": {},
   "source": [
    "**Rank**\n",
    "\n",
    "- The number of dimensions of the output vectors \n",
    "- The dimension of the vector space generated (or spanned) by the matrix's columns."
   ]
  },
  {
   "cell_type": "markdown",
   "metadata": {},
   "source": [
    "**Linear System of Equations**\n",
    "$$\n",
    "\\begin{align*}\n",
    "2x + 5y + 3z &= -3 \\\\\n",
    "4x + 0y + 8z &= 0 \\\\\n",
    "1x + 3y + 0z &= 2\n",
    "\\end{align*}\n",
    "$$\n",
    "\n",
    "$$\n",
    "\\underbrace{ \\begin{bmatrix}\n",
    "             2 & 5 & 3 \\\\\n",
    "             4 & 0 & 8 \\\\\n",
    "             1 & 3 & 0\n",
    "             \\end{bmatrix} }_\\text{Transformation}\n",
    "\\overbrace{ \\begin{bmatrix}\n",
    "             x \\\\\n",
    "             y \\\\\n",
    "             z\n",
    "             \\end{bmatrix} }^\\text{Input Vector}\n",
    "= \n",
    "\\underbrace{ \\begin{bmatrix}\n",
    "             -3 \\\\\n",
    "             0 \\\\\n",
    "             2 \n",
    "             \\end{bmatrix} }_\\text{Output Vector}\n",
    "$$\n",
    "\n",
    "$$\n",
    "A\\vec{x} = \\vec{b}\n",
    "$$\n",
    "\n",
    "The matrix $A$ $\\begin{bmatrix} 2 & 5 & 3 \\\\ 4 & 0 & 8 \\\\ 1 & 3 & 0 \\end{bmatrix}$ describes the system's linear transformation. We know after applying this tranformation to vector $\\vec{x}$, it lands on vector $\\vec{b}$ $\\begin{bmatrix} -3 \\\\ 0 \\\\ 2 \\end{bmatrix}$. To solve for $\\vec{x}$, we need to find the reverse transformation of A and apply it to vector $\\vec{b}$."
   ]
  },
  {
   "cell_type": "code",
   "execution_count": null,
   "metadata": {},
   "outputs": [],
   "source": [
    "# rank 2 example\n",
    "A = numpy.array([[1,2,7], [0,1,3], [-3,1,0]])\n",
    "print(A)\n",
    "plot_3d_linear_transformation(A)"
   ]
  },
  {
   "cell_type": "code",
   "execution_count": null,
   "metadata": {},
   "outputs": [],
   "source": [
    "# rank 1 example\n",
    "B = numpy.array([[1,2,1], [-1,-2,-1], [3,6,3]])\n",
    "print(B)\n",
    "plot_3d_linear_transformation(B)"
   ]
  },
  {
   "cell_type": "markdown",
   "metadata": {},
   "source": [
    "- Full Rank: the dimension of vector space generated by the transformation equals to the number of the matrix columns"
   ]
  },
  {
   "cell_type": "markdown",
   "metadata": {},
   "source": [
    "**Can we solve a system of equations where the system matrix A is not full rank?**"
   ]
  },
  {
   "cell_type": "code",
   "execution_count": null,
   "metadata": {},
   "outputs": [],
   "source": [
    "numpy.linalg.inv(A)"
   ]
  },
  {
   "cell_type": "markdown",
   "metadata": {},
   "source": [
    "The inverse does not exist when the matrix is not full rank (we cannot find the reverse transformation)\n",
    "\n",
    "not invertible = singular = has a zero determinant = is not full rank"
   ]
  },
  {
   "cell_type": "code",
   "execution_count": null,
   "metadata": {},
   "outputs": [],
   "source": [
    "# Execute this cell to load the notebook's style sheet, then ignore it\n",
    "from IPython.core.display import HTML\n",
    "css_file = '../style/custom.css'\n",
    "HTML(open(css_file, \"r\").read())"
   ]
  }
 ],
 "metadata": {
  "kernelspec": {
   "display_name": "Python 3",
   "language": "python",
   "name": "python3"
  },
  "language_info": {
   "codemirror_mode": {
    "name": "ipython",
    "version": 3
   },
   "file_extension": ".py",
   "mimetype": "text/x-python",
   "name": "python",
   "nbconvert_exporter": "python",
   "pygments_lexer": "ipython3",
   "version": "3.6.5"
  }
 },
 "nbformat": 4,
 "nbformat_minor": 2
}
