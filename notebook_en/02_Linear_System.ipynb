{
 "cells": [
  {
   "cell_type": "code",
   "execution_count": null,
   "metadata": {},
   "outputs": [],
   "source": [
    "import numpy\n",
    "%matplotlib notebook\n",
    "from matplotlib import pyplot"
   ]
  },
  {
   "cell_type": "code",
   "execution_count": null,
   "metadata": {},
   "outputs": [],
   "source": [
    "from numpy.linalg import inv"
   ]
  },
  {
   "cell_type": "code",
   "execution_count": null,
   "metadata": {},
   "outputs": [],
   "source": [
    "import sys\n",
    "sys.path.append('../scripts/')\n",
    "\n",
    "# Our helper, with the functions: \n",
    "# plot_vector, plot_linear_transformation, plot_linear_transformations\n",
    "from plot_helper import *"
   ]
  },
  {
   "cell_type": "markdown",
   "metadata": {},
   "source": [
    "## A matrix is a linear transformation\n",
    "\n",
    "In the first lesson of this module, we saw that a matrix corresponds to a linear transformation. For example, the matrix \n",
    "\n",
    "$$A = \\begin{bmatrix} 1 & 1 \\\\ -1 & 1 \\end{bmatrix}$$\n",
    "\n",
    "will transform the unit vectors to its columns:\n",
    "$$\n",
    "\\mathbf{i} = \\begin{bmatrix} 1 \\\\ 0 \\end{bmatrix}  \\Rightarrow  \\begin{bmatrix} 1 \\\\ -1 \\end{bmatrix} \\\\\n",
    "\\mathbf{j} = \\begin{bmatrix} 0 \\\\ 1 \\end{bmatrix}  \\Rightarrow  \\begin{bmatrix} 1 \\\\ 1 \\end{bmatrix}\n",
    "$$\n",
    "\n",
    "Let's visualize this transformation using our helper function `plot_linear_transformation()`:"
   ]
  },
  {
   "cell_type": "code",
   "execution_count": null,
   "metadata": {},
   "outputs": [],
   "source": [
    "A = numpy.array([[1,1], [-1,1]])\n",
    "plot_linear_transformation(A)"
   ]
  },
  {
   "cell_type": "markdown",
   "metadata": {},
   "source": [
    "**Example**\n",
    "\n",
    "Using the idea of transformation instead of Gaussian elimination to solve for $x$ and $y$.\n",
    "\n",
    "$$\n",
    "\\begin{align*}\n",
    "x + y &= 1 \\\\\n",
    "-x + y &= 5\n",
    "\\end{align*}\n",
    "$$\n"
   ]
  },
  {
   "cell_type": "markdown",
   "metadata": {},
   "source": [
    "The transformation A is a 45-degree clockwise rotation, plus a scaling factor of $\\sqrt{2}$ (after transformation each grid box has a side length of $\\sqrt{2}$). Therefore, the reverse action is to rotate 45 degree counter-clockwise then scale all vectors by $\\frac{1}{\\sqrt{2}}$. Knowing the relationship between a matrix and its underlying transformation, we can write this reverse rotation matrix as $\\begin{bmatrix} 1/2 & -1/2 \\\\ 1/2 & 1/2 \\end{bmatrix}$."
   ]
  },
  {
   "cell_type": "code",
   "execution_count": null,
   "metadata": {},
   "outputs": [],
   "source": [
    "A_inv = numpy.array([[1,-1], [1,1]]) * 1 / 2\n",
    "plot_linear_transformation(A_inv)"
   ]
  },
  {
   "cell_type": "markdown",
   "metadata": {},
   "source": [
    "Apply the reverse linear transformation to vector $\\vec{b}$ to get the unknown vector $\\vec{x}$."
   ]
  },
  {
   "cell_type": "code",
   "execution_count": null,
   "metadata": {},
   "outputs": [],
   "source": [
    "b = numpy.array([[1],[5]])\n",
    "x = A_inv@b\n",
    "print(x)"
   ]
  },
  {
   "cell_type": "markdown",
   "metadata": {},
   "source": [
    "To check the answer, we can use the builtin inverse function `numpy.linalg.inv`."
   ]
  },
  {
   "cell_type": "code",
   "execution_count": null,
   "metadata": {},
   "outputs": [],
   "source": [
    "from numpy.linalg import solve"
   ]
  },
  {
   "cell_type": "code",
   "execution_count": null,
   "metadata": {},
   "outputs": [],
   "source": [
    "A_inv = inv(A)\n",
    "print(A_inv@b)"
   ]
  },
  {
   "cell_type": "markdown",
   "metadata": {},
   "source": [
    "Or use builtin function `numpy.linalg.solve` directly."
   ]
  },
  {
   "cell_type": "code",
   "execution_count": null,
   "metadata": {},
   "outputs": [],
   "source": [
    "print(solve(A, b))"
   ]
  },
  {
   "cell_type": "markdown",
   "metadata": {},
   "source": [
    "**3x3 matrix: 3D linear transformation**"
   ]
  },
  {
   "cell_type": "markdown",
   "metadata": {},
   "source": [
    "**Linear System of Equations**\n",
    "$$\n",
    "\\begin{align*}\n",
    "2x + 5y + 3z &= -3 \\\\\n",
    "4x + 0y + 8z &= 0 \\\\\n",
    "1x + 3y + 0z &= 2\n",
    "\\end{align*}\n",
    "$$\n",
    "\n",
    "$$\n",
    "\\underbrace{ \\begin{bmatrix}\n",
    "             2 & 5 & 3 \\\\\n",
    "             4 & 0 & 8 \\\\\n",
    "             1 & 3 & 0\n",
    "             \\end{bmatrix} }_\\text{Transformation}\n",
    "\\overbrace{ \\begin{bmatrix}\n",
    "             x \\\\\n",
    "             y \\\\\n",
    "             z\n",
    "             \\end{bmatrix} }^\\text{Input Vector}\n",
    "= \n",
    "\\underbrace{ \\begin{bmatrix}\n",
    "             -3 \\\\\n",
    "             0 \\\\\n",
    "             2 \n",
    "             \\end{bmatrix} }_\\text{Output Vector}\n",
    "$$\n",
    "\n",
    "$$\n",
    "A\\vec{x} = \\vec{b}\n",
    "$$\n",
    "\n",
    "The matrix $A$ $\\begin{bmatrix} 2 & 5 & 3 \\\\ 4 & 0 & 8 \\\\ 1 & 3 & 0 \\end{bmatrix}$ describes the system's linear transformation. We know after applying this tranformation to vector $\\vec{x}$, it lands on vector $\\vec{b}$ $\\begin{bmatrix} -3 \\\\ 0 \\\\ 2 \\end{bmatrix}$. To solve for $\\vec{x}$, we need to find the reverse transformation of A and apply it to vector $\\vec{b}$."
   ]
  },
  {
   "cell_type": "code",
   "execution_count": null,
   "metadata": {},
   "outputs": [],
   "source": [
    "matrix = numpy.array([[1,0,1], [1,1,0], [-1,1,1]])\n",
    "print(matrix)\n",
    "plot_3d_linear_transformation(matrix)"
   ]
  },
  {
   "cell_type": "markdown",
   "metadata": {},
   "source": [
    "**Rank**\n",
    "\n",
    "- The number of dimensions of the output vectors \n",
    "- The dimension of the vector space generated (or spanned) by the matrix's columns."
   ]
  },
  {
   "cell_type": "code",
   "execution_count": null,
   "metadata": {},
   "outputs": [],
   "source": [
    "# rank 2 example\n",
    "A = numpy.array([[1,2,7], [0,1,3], [-3,1,0]])\n",
    "print(A)\n",
    "plot_3d_linear_transformation(A)"
   ]
  },
  {
   "cell_type": "code",
   "execution_count": null,
   "metadata": {},
   "outputs": [],
   "source": [
    "# rank 1 example\n",
    "B = numpy.array([[1,2,1], [-1,-2,-1], [3,6,3]])\n",
    "print(B)\n",
    "plot_3d_linear_transformation(B)"
   ]
  },
  {
   "cell_type": "markdown",
   "metadata": {},
   "source": [
    "- Full Rank: the dimension of vector space generated by the transformation equals to the number of the matrix columns"
   ]
  },
  {
   "cell_type": "markdown",
   "metadata": {},
   "source": [
    "**Can we solve a system of equations where the system matrix A is not full rank?**"
   ]
  },
  {
   "cell_type": "code",
   "execution_count": null,
   "metadata": {},
   "outputs": [],
   "source": [
    "inv(A)"
   ]
  },
  {
   "cell_type": "markdown",
   "metadata": {},
   "source": [
    "The inverse does not exist when the matrix is not full rank (we cannot find the reverse transformation)\n",
    "\n",
    "not invertible = singular = has a zero determinant = is not full rank"
   ]
  }
 ],
 "metadata": {
  "kernelspec": {
   "display_name": "Python 3",
   "language": "python",
   "name": "python3"
  },
  "language_info": {
   "codemirror_mode": {
    "name": "ipython",
    "version": 3
   },
   "file_extension": ".py",
   "mimetype": "text/x-python",
   "name": "python",
   "nbconvert_exporter": "python",
   "pygments_lexer": "ipython3",
   "version": "3.6.5"
  }
 },
 "nbformat": 4,
 "nbformat_minor": 2
}
