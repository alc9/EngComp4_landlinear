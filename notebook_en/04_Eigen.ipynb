{
 "cells": [
  {
   "cell_type": "code",
   "execution_count": null,
   "metadata": {},
   "outputs": [],
   "source": [
    "import numpy\n",
    "%matplotlib inline\n",
    "from matplotlib import pyplot"
   ]
  },
  {
   "cell_type": "code",
   "execution_count": null,
   "metadata": {},
   "outputs": [],
   "source": [
    "import sys\n",
    "sys.path.append('../scripts/')\n",
    "\n",
    "# Our helper, with the functions: \n",
    "# plot_vector, plot_linear_transformation, plot_linear_transformations\n",
    "from plot_helper import *"
   ]
  },
  {
   "cell_type": "markdown",
   "metadata": {},
   "source": [
    "So far we discussed about 3 different interpretations of a matrix when multiplying with a vector: \n",
    "1. apply a linear transformation to the vector (under the same basis)\n",
    "2. form the left hand side of some system of equations\n",
    "3. change the vector to a new basis\n",
    "\n",
    "This notebook uses 1 and 3 to explain one on the most talked about concepts: eigenvalues and eigenvectors.\n",
    "\n",
    "Let's first use `plot_linear_transformation()` to visualize how matrix $A = \\begin{bmatrix} 1 & 2 \\\\ 2 & 1 \\end{bmatrix}$ transform a vector. This time we also plot 5 additional vectors both before and after the transformation along with the grid. The basis vectors are still in red and green."
   ]
  },
  {
   "cell_type": "code",
   "execution_count": null,
   "metadata": {},
   "outputs": [],
   "source": [
    "matrix = numpy.array([[1,2], [2,1]])\n",
    "vector1 = numpy.array([1,1])\n",
    "vector2 = numpy.array([-1,1.5])\n",
    "vector3 = numpy.array([2,-2])\n",
    "vector4 = numpy.array([-1,-3])\n",
    "vector5 = numpy.array([-2,-0.5])\n",
    "plot_linear_transformation(matrix, vector1, vector2, vector3, vector4, vector5)"
   ]
  },
  {
   "cell_type": "markdown",
   "metadata": {},
   "source": [
    "After the transformation, the basis vectors rotate to a different angle. The same effect happens to the darkblue, brown and purple vectors. However, the yellow one and the red one stay on the same line as before: the yellow vector $(2,-2)$ lands on $(-2,2)$ and the pink vector $(1,1)$ lands on $(3,3)$. If you plot much more vectors from different angles, you will find that the linear transformation represented by matrix $A$ changes the direction of most of the vectors, while only some can land in the their original direction. These vectors are special to matrix $A$ since they can preserve their orientation."
   ]
  },
  {
   "cell_type": "markdown",
   "metadata": {},
   "source": [
    "These transformed vectors are just scaled by a number. For example, the pink one is streched to 3 times its original length, and the yellow one is flipped over with the same length, so the scale in this case is -1.\n",
    "\n",
    "Knowing that a matrix-vector multiplication is equivalent to performing a linear transformation to the vector, we can represent the observation above in a mathematical way:\n",
    "\n",
    "$$A \\mathbf{v} = \\lambda \\mathbf{v}$$\n",
    "\n",
    "$\\mathbf{v}$ is the original vector and $A \\mathbf{v}$ is the transformed vector, $\\lambda$ denotes the scaling factor.\n",
    "\n",
    "Does it look familiar? Yes, a vector $\\mathbf{v}$ that satisfies this equation is called an eigenvector of matrix $A$ and the corresponding $\\lambda$ is called an eigenvalue of matrix $A$. For the matrix $\\begin{bmatrix} 1 & 2 \\\\ 2 & 1 \\end{bmatrix}$, the first eigenvector is $(1,1)$ pairing with an eigenvalue of 3, the second eigenvector is $(2,-2)$ pairing with an eigenvalue of -1."
   ]
  },
  {
   "cell_type": "markdown",
   "metadata": {},
   "source": [
    "### Compute eigenvalues and eigenvectors in Python\n",
    "\n",
    "We can use python builtin function: `numpy.linalg.eig` to find the eigenvalues of a given matrix."
   ]
  },
  {
   "cell_type": "code",
   "execution_count": null,
   "metadata": {},
   "outputs": [],
   "source": [
    "from numpy.linalg import eig\n",
    "eigenvalues, eigenvectors = eig(matrix)\n",
    "for eigenvalue, eigenvector in zip(eigenvalues, eigenvectors.T):\n",
    "    print(eigenvalue, eigenvector)"
   ]
  },
  {
   "cell_type": "markdown",
   "metadata": {},
   "source": [
    "Why the eigenvectors are different from what we have eyeballed? \n",
    "\n",
    "Let's plot the yellow and pink vector together with the eigenvectors calculated by `numpy.linalg.eig`."
   ]
  },
  {
   "cell_type": "code",
   "execution_count": null,
   "metadata": {},
   "outputs": [],
   "source": [
    "plot_linear_transformation(matrix, vector1, eigenvectors[0], vector3, eigenvectors[1])"
   ]
  },
  {
   "cell_type": "markdown",
   "metadata": {},
   "source": [
    "Both vector $(0.70710678, 0.70710678)$ and $(1,1)$ satisfy $A\\mathbf{v} = \\lambda \\mathbf{v}$ with $\\lambda=3$ and they are on the same line. All vectors on this line will not change direction after transformation, therefore, they are all eigenvectors of matrix $A$. They are just scaled by $\\lambda$ when applying matrix $A$. `numpy.linalg.eig` simply gives us the eigenvectors with a unit length."
   ]
  },
  {
   "cell_type": "markdown",
   "metadata": {},
   "source": [
    "> To-do: visualize the transformation using unit circle, plot eigenvectors on the circle"
   ]
  },
  {
   "cell_type": "markdown",
   "metadata": {},
   "source": [
    "### Eigendecomposition"
   ]
  },
  {
   "cell_type": "markdown",
   "metadata": {},
   "source": [
    "For matrix $A$, we found two sets of eigenvectors:\n",
    "\n",
    "$$\n",
    "\\begin{align*}\n",
    "  A \\mathbf{v_1} = \\lambda_1 \\mathbf{v_1} \\\\\n",
    "  A \\mathbf{v_2} = \\lambda_2 \\mathbf{v_2}\n",
    "\\end{align*}\n",
    "$$\n",
    "\n",
    "The left-hand side $A \\mathbf{v_1}$ and $A \\mathbf{v_2}$ are two column vectors, as well as the right-hand side. By stacking each side of the two equations together, we get: \n",
    "\n",
    "$$\n",
    "  A \\begin{bmatrix}\n",
    "    \\mathbf{v_1} & \\mathbf{v_2}\n",
    "    \\end{bmatrix}\n",
    "    =\n",
    "    \\begin{bmatrix}\n",
    "    \\mathbf{v_1} & \\mathbf{v_2}\n",
    "    \\end{bmatrix}\n",
    "    \\begin{bmatrix}\n",
    "    \\lambda_1 & 0 \\\\\n",
    "    0 & \\lambda_2\n",
    "    \\end{bmatrix}  \n",
    "$$\n",
    "\n",
    "using $Q$ to denote eigenvector matrix and $\\Lambda$ to denote the diagonal matrix of eigenvalues, it becomes:\n",
    "\n",
    "$$\n",
    "  A Q = Q \\Lambda\n",
    "$$\n",
    "\n",
    "then multiply $Q^{-1}$ on both sides:\n",
    "\n",
    "$$\n",
    "  A = Q \\Lambda Q^{-1}\n",
    "$$"
   ]
  },
  {
   "cell_type": "code",
   "execution_count": null,
   "metadata": {},
   "outputs": [],
   "source": [
    "Q = eigenvectors\n",
    "A_decomp = Q @ numpy.diag(eigenvalues) @ numpy.linalg.inv(Q)\n",
    "print(A_decomp)"
   ]
  },
  {
   "cell_type": "markdown",
   "metadata": {},
   "source": [
    "Geometrical interpretation of each component:\n",
    "1. $Q$: change basis\n",
    "2. $\\Lambda$: scale along each new basis vectors\n",
    "3. $Q^{-1}$: change basis back"
   ]
  },
  {
   "cell_type": "code",
   "execution_count": null,
   "metadata": {},
   "outputs": [],
   "source": [
    "# Execute this cell to load the notebook's style sheet, then ignore it\n",
    "from IPython.core.display import HTML\n",
    "css_file = '../style/custom.css'\n",
    "HTML(open(css_file, \"r\").read())"
   ]
  },
  {
   "cell_type": "code",
   "execution_count": null,
   "metadata": {},
   "outputs": [],
   "source": []
  }
 ],
 "metadata": {
  "kernelspec": {
   "display_name": "Python 3",
   "language": "python",
   "name": "python3"
  },
  "language_info": {
   "codemirror_mode": {
    "name": "ipython",
    "version": 3
   },
   "file_extension": ".py",
   "mimetype": "text/x-python",
   "name": "python",
   "nbconvert_exporter": "python",
   "pygments_lexer": "ipython3",
   "version": "3.6.7"
  }
 },
 "nbformat": 4,
 "nbformat_minor": 2
}
