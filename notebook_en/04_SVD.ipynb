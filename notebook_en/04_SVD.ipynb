{
 "cells": [
  {
   "cell_type": "code",
   "execution_count": null,
   "metadata": {},
   "outputs": [],
   "source": [
    "import numpy\n",
    "%matplotlib inline\n",
    "from matplotlib import pyplot\n",
    "pyplot.rc('font', family='serif', size=5)"
   ]
  },
  {
   "cell_type": "code",
   "execution_count": null,
   "metadata": {},
   "outputs": [],
   "source": [
    "import sys\n",
    "sys.path.append('../scripts/')\n",
    "\n",
    "# Our helper\n",
    "from plot_helper import *"
   ]
  },
  {
   "cell_type": "markdown",
   "metadata": {},
   "source": [
    "In the previous notebook, we visually explained what are eigenvectors and eigenvalues, and we can use `numpy.linalg.eig()` to solve for the eigenpairs. Take $\\,A = \\begin{bmatrix} 1 & 0 \\\\ 1 & 3 \\end{bmatrix}$ as an example."
   ]
  },
  {
   "cell_type": "markdown",
   "metadata": {},
   "source": [
    "In the previous notebook, we visually explained what are eigenvectors and eigenvalues, and we can use `numpy.linalg.eig()` to solve for the eigenpairs. Take $\\,A = \\begin{bmatrix} 1 & 2 \\\\ 2 & 1 \\end{bmatrix}$ as an example."
   ]
  },
  {
   "cell_type": "code",
   "execution_count": null,
   "metadata": {},
   "outputs": [],
   "source": [
    "A = numpy.array([[1,2], [2,1]])\n",
    "d, C = numpy.linalg.eig(A)\n",
    "for eigenvalue, eigenvector in zip(d, C.T):\n",
    "    print(eigenvalue, eigenvector)"
   ]
  },
  {
   "cell_type": "markdown",
   "metadata": {},
   "source": [
    "$d$ is an array of eigenvalues and each column of $C$ represents a normalized eigenvector of matrix $A$. We can decompose the matrix as $A = C\\, D\\, C^{-1}$ where $D$ is the diagonal matrix of $d$. Let us draw both eigenvectors along with this linear transformation using `plot_linear_transformation()`, and set `unit_circle=True` to show the unit circle and `unit_vector=False` to hide the unit vectors."
   ]
  },
  {
   "cell_type": "code",
   "execution_count": null,
   "metadata": {},
   "outputs": [],
   "source": [
    "plot_linear_transformation(A, C[:,0], C[:,1], unit_vector=False, unit_circle=True)"
   ]
  },
  {
   "cell_type": "markdown",
   "metadata": {},
   "source": [
    "The eigenvectors (in pink and dark blue) of $A$ will not change their directions after the transformation of $A$. Since $A$ is symmetric, the transformed eigenvectors happen to be the semi-axes of the transformed unit circle.\n",
    "\n",
    "If we look at a general case where $A$ is an asymmetric matrix, say $\\,A = \\begin{bmatrix} 1 & 0 \\\\ 1 & 3 \\end{bmatrix}$, we will observe that the transformed eigenvectors still keep their original directions, however, they no longer coincide with the semi-axes of the ellipse, as the plot demonstrated below. "
   ]
  },
  {
   "cell_type": "code",
   "execution_count": null,
   "metadata": {},
   "outputs": [],
   "source": [
    "A = numpy.array([[1,0], [1,3]])\n",
    "d, C = numpy.linalg.eig(A)\n",
    "plot_linear_transformation(A, C[:,0], C[:,1], unit_vector=False, unit_circle=True)"
   ]
  },
  {
   "cell_type": "markdown",
   "metadata": {},
   "source": [
    "Then, how could we find the vectors that correspond to the semi-axes of the ellipse? They are intriguing because they are the most stretched or most shrunk vectors after the transformation. Similar to what we've done before, we calculate the maximum and minimum distance from the origin to the ellipse. The longest vector between them is the semi-major axis, the shortest one is the semi-minor axis."
   ]
  },
  {
   "cell_type": "code",
   "execution_count": null,
   "metadata": {},
   "outputs": [],
   "source": [
    "alpha = numpy.linspace(0, 2*numpy.pi, 201)\n",
    "circle = numpy.vstack((numpy.cos(alpha), numpy.sin(alpha)))\n",
    "ellipse = A @ circle    # 2 by 41 ndarray\n",
    "distance = numpy.linalg.norm(ellipse, axis=0)\n",
    "major_id = numpy.argmax(distance)\n",
    "minor_id = numpy.argmin(distance)\n",
    "major = ellipse[:, major_id]\n",
    "minor = ellipse[:, minor_id]\n",
    "print(major, numpy.linalg.norm(major))\n",
    "print(minor, numpy.linalg.norm(minor))"
   ]
  },
  {
   "cell_type": "markdown",
   "metadata": {},
   "source": [
    "Recall that `major` and `minor` are transformed vectors which had a unit length before the transformation. To use our plotting function `plot_linear_transformation` to visualize them, we need to pass in the corresponding `major` and `minor` vectors *before* the transformation. We name them `major_before` and `minor_before`."
   ]
  },
  {
   "cell_type": "code",
   "execution_count": null,
   "metadata": {},
   "outputs": [],
   "source": [
    "A_inv = numpy.linalg.inv(A)\n",
    "major_before = A_inv @ major\n",
    "minor_before = A_inv @ minor"
   ]
  },
  {
   "cell_type": "markdown",
   "metadata": {},
   "source": [
    "We can finally plot the semi-axes now. Notice that we do not need to plot eigenvectors this time."
   ]
  },
  {
   "cell_type": "code",
   "execution_count": null,
   "metadata": {},
   "outputs": [],
   "source": [
    "plot_linear_transformation(A, major_before, minor_before,\n",
    "                           unit_vector=False, unit_circle=True)"
   ]
  },
  {
   "cell_type": "markdown",
   "metadata": {},
   "source": [
    "We all know that the major and minor axes of an ellipse are orthogonal (perpendicular to each other), however, to our surprise, their corresponding vectors `major_before` and `minor_before`, which land on the original unit circle, appear to be orthogonal as well. We can use inner product `numpy.dot()` to confirm."
   ]
  },
  {
   "cell_type": "code",
   "execution_count": null,
   "metadata": {},
   "outputs": [],
   "source": [
    "print(major.dot(minor))\n",
    "print(major_before.dot(minor_before))"
   ]
  },
  {
   "cell_type": "markdown",
   "metadata": {},
   "source": [
    "If we use $\\mathbf{u_1}, \\mathbf{u_2}$ to denote the *normalized* `major` and `minor` vectors, use $\\mathbf{s_1}, \\mathbf{s_2}$ to denote the lengths of `major` and `minor`, and use $\\mathbf{v_1}, \\mathbf{v_2}$ to denote `major_before` and `minor_before` (they are normalized already since they land on the unit circle), we can formulate the observation above as:\n",
    "\n",
    "$$\n",
    "\\begin{align*}\n",
    "  A \\mathbf{v_1} = s_1 \\mathbf{u_1} \\\\\n",
    "  A \\mathbf{v_2} = s_2 \\mathbf{u_2}\n",
    "\\end{align*}\n",
    "$$\n",
    "\n",
    "Stacking two equations together:\n",
    "\n",
    "$$\n",
    "  A \\begin{bmatrix}\n",
    "    \\mathbf{v_1} & \\mathbf{v_2}\n",
    "    \\end{bmatrix}\n",
    "    =\n",
    "    \\begin{bmatrix}\n",
    "    \\mathbf{u_1} & \\mathbf{u_2}\n",
    "    \\end{bmatrix}\n",
    "    \\begin{bmatrix}\n",
    "    s_1 & 0 \\\\\n",
    "    0 & s_2\n",
    "    \\end{bmatrix}  \n",
    "$$\n",
    "\n",
    "Using $V$ to denote $\\begin{bmatrix} \\mathbf{v_1} & \\mathbf{v_2} \\end{bmatrix}$, $U$ to denote $\\begin{bmatrix} \\mathbf{u_1} & \\mathbf{u_2} \\end{bmatrix}$ and $S$ to denote the diagonal scaling matrix, it becomes:\n",
    "\n",
    "$$\n",
    "  A\\, V = U\\, S\n",
    "$$\n",
    "\n",
    "then right-multiply by $V^{-1}$ on both sides:\n",
    "\n",
    "$$\n",
    "  A = U\\, S\\, V^{-1}\n",
    "$$\n",
    "\n",
    "Since $\\mathbf{v_1}, \\mathbf{v_2}$ are orthogonal unit vectors, the matrix $V$ is an orthogonal matrix. (Recall what is an orthogonal matrix from the previous notebook) Thus, $V^T = V^{-1}$, the equation can also be written as:\n",
    "\n",
    "$$\n",
    "  A = U\\, S\\, V^{T}\n",
    "$$\n",
    "\n",
    "Starting from discovering the semi-axes of the transformed unit circle, we finally arrive at another neat decomposition of the matrix $A$ - singular value decomposition (SVD). The columns of $U$ are called left singular vectors, the columns of $V$ are called right singular vectors, and the diagonal elements of $S$ are singular values.\n",
    "\n",
    "Let us build these matrices first."
   ]
  },
  {
   "cell_type": "code",
   "execution_count": null,
   "metadata": {},
   "outputs": [],
   "source": [
    "s1 = numpy.linalg.norm(major)\n",
    "s2 = numpy.linalg.norm(minor)\n",
    "S = numpy.diag([s1, s2])\n",
    "print(S)"
   ]
  },
  {
   "cell_type": "code",
   "execution_count": null,
   "metadata": {},
   "outputs": [],
   "source": [
    "u1 = major / s1\n",
    "u2 = minor / s2\n",
    "U = numpy.transpose(numpy.vstack((u1,u2)))\n",
    "print(U)"
   ]
  },
  {
   "cell_type": "code",
   "execution_count": null,
   "metadata": {},
   "outputs": [],
   "source": [
    "v1 = major_before\n",
    "v2 = minor_before\n",
    "VT = numpy.vstack((v1,v2))\n",
    "print(VT)"
   ]
  },
  {
   "cell_type": "markdown",
   "metadata": {},
   "source": [
    "We can retrieve matrix $A$ by multiplying them together."
   ]
  },
  {
   "cell_type": "code",
   "execution_count": null,
   "metadata": {},
   "outputs": [],
   "source": [
    "U @ S @ VT"
   ]
  },
  {
   "cell_type": "markdown",
   "metadata": {},
   "source": [
    "From the previous notebook, we know that an orthogonal matrix ($U$ and $V$) implies a rotation transformation while a diagonal matrix ($S$) implies a scaling transformation. Let us visualize each component in the SVD. We also draw the unit vectors after each transformation this time."
   ]
  },
  {
   "cell_type": "code",
   "execution_count": null,
   "metadata": {},
   "outputs": [],
   "source": [
    "plot_linear_transformations(VT, S, U, unit_circle=True)"
   ]
  },
  {
   "cell_type": "markdown",
   "metadata": {},
   "source": [
    "The matrix $V^T$ first \"rotates\" the unit circle, then the diagonal matrix $S$ \"stretches\" the unit circle in both $x$-axis and $y$-axis directions into an ellipse, finally the matrix $U$ \"rotates\" this ellipse to a new direction. Therefore, the linear transformation of matrix $A$ can be viewed as a combination of rotation and scaling."
   ]
  },
  {
   "cell_type": "markdown",
   "metadata": {},
   "source": [
    "## Compute SVD in Python\n",
    "\n",
    "You can compute the SVD of a matrix using [`numpy.linalg.svd()`](https://docs.scipy.org/doc/numpy/reference/generated/numpy.linalg.svd.html). It returns a tuple: its first element is a 2D array where each column is a left singular vector, its second element is an array with the singular values, and its third element is a 2D array where each row is a right singular vector."
   ]
  },
  {
   "cell_type": "code",
   "execution_count": null,
   "metadata": {},
   "outputs": [],
   "source": [
    "U, S, VT = numpy.linalg.svd(A)"
   ]
  },
  {
   "cell_type": "markdown",
   "metadata": {},
   "source": [
    "Let us loop over each pair of singular values and singular vectors, print them out."
   ]
  },
  {
   "cell_type": "code",
   "execution_count": null,
   "metadata": {},
   "outputs": [],
   "source": [
    "for u, s, v in zip(U.T, S, VT):\n",
    "    print(s, u, v)"
   ]
  },
  {
   "cell_type": "markdown",
   "metadata": {},
   "source": [
    "We can use [`numpy.allclose()`](https://docs.scipy.org/doc/numpy/reference/generated/numpy.allclose.html) to confirm that the decomposition is close enough to the matrix $A$."
   ]
  },
  {
   "cell_type": "code",
   "execution_count": null,
   "metadata": {},
   "outputs": [],
   "source": [
    "A_decomp = U @ numpy.diag(S) @ VT\n",
    "print(A_decomp)\n",
    "print(numpy.allclose(A, A_decomp))"
   ]
  },
  {
   "cell_type": "markdown",
   "metadata": {},
   "source": [
    "As we discussed before, a $3 \\times 3$ matrix represents a linear transformation in 3D. We can also apply SVD to it using `numpy` built-in function and visualize each component. The linear transformation is a composition of a rotation, a scaling and another rotation transformation."
   ]
  },
  {
   "cell_type": "code",
   "execution_count": null,
   "metadata": {},
   "outputs": [],
   "source": [
    "A = numpy.array([[1,2,3], [1,1,1], [-1,1,0]])\n",
    "U, S, VT = numpy.linalg.svd(A)\n",
    "plot_3d_linear_transformations(VT, numpy.diag(S), U, unit_sphere=True)"
   ]
  },
  {
   "cell_type": "markdown",
   "metadata": {},
   "source": [
    "### Rank-deficient matrix"
   ]
  },
  {
   "cell_type": "markdown",
   "metadata": {},
   "source": [
    "In the second notebook, we introduced the rank of a matrix, the dimension of the vector space spanned by the columns of a matrix. It also describes the number of linearly independent columns of a matrix. When the rank of a matrix does not match the number of columns, the matrix is called *rank-deficient*.\n",
    "\n",
    "The matrix $N = \\begin{bmatrix} 1 & 2 & 7 \\\\\n",
    "                                0 & 1 & 3 \\\\\n",
    "                                -3 & 1 & 0 \\end{bmatrix} $ has rank 2. Plotting this information below, you will find that all the 3d grid lines collapse on a 2d plane."
   ]
  },
  {
   "cell_type": "code",
   "execution_count": null,
   "metadata": {},
   "outputs": [],
   "source": [
    "N = numpy.array([[1,2,7], [0,1,3], [-3,1,0]])\n",
    "plot_3d_linear_transformation(N)"
   ]
  },
  {
   "cell_type": "markdown",
   "metadata": {},
   "source": [
    "With the help of SVD, now we could look at this rank-deficient matrix from a different perspective. Let's plot each component of SVD and turn on `unit_sphere`."
   ]
  },
  {
   "cell_type": "code",
   "execution_count": null,
   "metadata": {},
   "outputs": [],
   "source": [
    "U, S, VT = numpy.linalg.svd(N)\n",
    "plot_3d_linear_transformations(VT, numpy.diag(S), U, unit_sphere=True)"
   ]
  },
  {
   "cell_type": "markdown",
   "metadata": {},
   "source": [
    "The second transformation squishes the unit sphere into an ellipse on the plane $z=0$. Since each singular value describes the scaling ratio along the corresponding axis, what we observed implies that the third singular value, corresponding to $z$-axis, is zero. Let's print out the singular values to verify."
   ]
  },
  {
   "cell_type": "code",
   "execution_count": null,
   "metadata": {},
   "outputs": [],
   "source": [
    "print(S)"
   ]
  },
  {
   "cell_type": "markdown",
   "metadata": {},
   "source": [
    "For a $3 \\times 3$ matrix, the number of nonzero singular values determines the dimensionality of the unit sphere after the transformation. If the matrix is full-rank, the transformed shape is an ellipsoid; if it has rank 2, the transformed shape is an ellipse; if it has rank 1, the transformed shape is a line segment. We can generalize this property to higher dimensions as follows:\n",
    "\n",
    "##### Key idea:\n",
    "\n",
    "> The number of nonzero singular values of square matrix $A$ equals to its rank.\n",
    "\n",
    "##### Challenge:\n",
    "\n",
    "> Check the singular values of a rank-1 matrix."
   ]
  },
  {
   "cell_type": "markdown",
   "metadata": {},
   "source": [
    "### Low Rank Approximation"
   ]
  },
  {
   "cell_type": "code",
   "execution_count": null,
   "metadata": {},
   "outputs": [],
   "source": [
    "A = numpy.array([[1, 2, 3, 6],\n",
    "                 [2, 5, 7, 10],\n",
    "                 [3, 9, 12, 14],\n",
    "                 [4, 7, 9, 15]])"
   ]
  },
  {
   "cell_type": "code",
   "execution_count": null,
   "metadata": {},
   "outputs": [],
   "source": [
    "U, S, VT = numpy.linalg.svd(A)\n",
    "print(S)"
   ]
  },
  {
   "cell_type": "code",
   "execution_count": null,
   "metadata": {},
   "outputs": [],
   "source": [
    "numpy.linalg.matrix_rank(A)"
   ]
  },
  {
   "cell_type": "code",
   "execution_count": null,
   "metadata": {},
   "outputs": [],
   "source": [
    "k = 3\n",
    "A_approx = U[:,:k] @ numpy.diag(S[:k]) @ VT[:k,:]\n",
    "print(A_approx)"
   ]
  },
  {
   "cell_type": "code",
   "execution_count": null,
   "metadata": {},
   "outputs": [],
   "source": [
    "numpy.linalg.matrix_rank(A_approx)"
   ]
  },
  {
   "cell_type": "markdown",
   "metadata": {},
   "source": [
    "### Image Compression using SVD"
   ]
  },
  {
   "cell_type": "markdown",
   "metadata": {},
   "source": [
    "We now understand that each singular value indicate the amount of scaling along its axis. "
   ]
  },
  {
   "cell_type": "code",
   "execution_count": null,
   "metadata": {},
   "outputs": [],
   "source": [
    "from imageio import imread, imwrite\n",
    "image = imread('../images/washington-monument.jpg')"
   ]
  },
  {
   "cell_type": "code",
   "execution_count": null,
   "metadata": {},
   "outputs": [],
   "source": [
    "print(type(image))\n",
    "print(image.shape)\n",
    "print(image.dtype)"
   ]
  },
  {
   "cell_type": "code",
   "execution_count": null,
   "metadata": {},
   "outputs": [],
   "source": [
    "pyplot.figure(figsize=(2,2))\n",
    "pyplot.imshow(image, cmap='gray');"
   ]
  },
  {
   "cell_type": "code",
   "execution_count": null,
   "metadata": {},
   "outputs": [],
   "source": [
    "U, S, VT = numpy.linalg.svd(image, full_matrices=False)\n",
    "print(U.shape, S.shape, VT.shape)"
   ]
  },
  {
   "cell_type": "code",
   "execution_count": null,
   "metadata": {},
   "outputs": [],
   "source": [
    "pyplot.figure(figsize=(3,2))\n",
    "pyplot.scatter(numpy.arange(len(S)), S, s=0.8)\n",
    "pyplot.yscale('log')\n",
    "pyplot.ylabel('singular value');"
   ]
  },
  {
   "cell_type": "code",
   "execution_count": null,
   "metadata": {},
   "outputs": [],
   "source": [
    "from ipywidgets import widgets, fixed\n",
    "import os"
   ]
  },
  {
   "cell_type": "code",
   "execution_count": null,
   "metadata": {},
   "outputs": [],
   "source": [
    "def approximate(k, u, s, vt, image):\n",
    "    copy = u[:,:k] @ numpy.diag(s[:k]) @ vt[:k,:]\n",
    "    copy = copy.round()   # round to integer\n",
    "    copy = numpy.where(copy>255, 255, copy)\n",
    "    copy = numpy.where(copy<0, 0, copy)\n",
    "    copy = copy.astype(numpy.uint8)\n",
    "    diff = numpy.abs(image - copy)\n",
    "    fig = pyplot.figure(figsize=(4,2))\n",
    "    ax1 = pyplot.subplot(121)\n",
    "    ax1.imshow(copy, cmap='gray')\n",
    "    ax1.set_title('compressed image'.format(k))\n",
    "    ax2 = pyplot.subplot(122)\n",
    "    ax2.imshow(image, cmap='gray')\n",
    "    ax2.set_title('original image'.format(k))\n",
    "    \n",
    "    imwrite('./compressed.jpg', copy)\n",
    "    orig_size = os.path.getsize('../images/washington-monument.jpg')\n",
    "    comp_size = os.path.getsize('./compressed.jpg')\n",
    "    print(comp_size/orig_size)\n",
    "    fig.suptitle('$k = {}$'.format(k))"
   ]
  },
  {
   "cell_type": "code",
   "execution_count": null,
   "metadata": {},
   "outputs": [],
   "source": [
    "slider = widgets.IntSlider(min=0, max=100, step=5)\n",
    "widgets.interact(approximate, k=slider, u=fixed(U),\n",
    "                 s=fixed(S), vt=fixed(VT), image=fixed(image));"
   ]
  },
  {
   "cell_type": "markdown",
   "metadata": {},
   "source": [
    "### Nonsquare matrix\n",
    "\n",
    "So far, we have only talked about square matrices. A $2\\times 2$ matrix transforms a 2d vector to another 2d vector, and a $3\\times 3$ matrix transforms a 3d vector to another 3d vector. What about a nonsquare matrix, for example, a $3 \\times 2$ matrix $M =  \\begin{bmatrix} 1 & 0 \\\\ 1 & 1 \\\\ 2 & 3\\end{bmatrix}$ ?\n",
    "\n",
    "It transforms a 2d vector to a 3d vector.\n",
    "\n",
    "If we use $\\mathbf{i}$ and $\\mathbf{j}$ to denote the standard basis vectors. The first column corresponds to the vector where $\\mathbf{i}$ lands after the transformation, and the second column is where $\\mathbf{j}$ lands:\n",
    "$$\n",
    "\\mathbf{i} = \\begin{bmatrix} 1 \\\\ 0 \\end{bmatrix}  \\Rightarrow  \\begin{bmatrix} 1 \\\\ 1 \\\\ 2 \\end{bmatrix} \\\\\n",
    "\\mathbf{j} = \\begin{bmatrix} 0 \\\\ 1 \\end{bmatrix}  \\Rightarrow  \\begin{bmatrix} 0 \\\\ 1 \\\\ 3 \\end{bmatrix}\n",
    "$$\n",
    "\n",
    "so a vector $\\mathbf{x} = \\begin{bmatrix} x \\\\ y \\end{bmatrix}$ will land in $ M\\mathbf{x} = x \\cdot \\begin{bmatrix} 1 \\\\ 1 \\\\ 2 \\end{bmatrix} + y \\cdot \\begin{bmatrix} 0 \\\\ 1 \\\\ 3 \\end{bmatrix}$.\n",
    "\n",
    "##### Key idea:\n",
    "\n",
    "> An $m\\times n$ nonsquare matrice transforms an $n$-dimensional vector to an $m$-dimensional vector.\n",
    "\n",
    "You can also multiply a nonsquare matrix with another nonsquare matrix, which represents the composition of two linear transformations between dimensions. However, we need to double check the dimensionality of the two matrices."
   ]
  },
  {
   "cell_type": "markdown",
   "metadata": {},
   "source": [
    "### SVD for nonsquare matrices"
   ]
  },
  {
   "cell_type": "markdown",
   "metadata": {},
   "source": [
    "Back to the mathematical representation:\n",
    "\n",
    "$$\n",
    "  A \\begin{bmatrix}\n",
    "    \\mathbf{v_1} & \\mathbf{v_2} & \\mathbf{v_3}\n",
    "    \\end{bmatrix}\n",
    "    =\n",
    "    \\begin{bmatrix}\n",
    "    \\mathbf{u_1} & \\mathbf{u_2} & \\mathbf{u_3}\n",
    "    \\end{bmatrix}\n",
    "    \\begin{bmatrix}\n",
    "    s_1 & 0 & 0\\\\\n",
    "    0 & s_2 & 0\\\\\n",
    "    0 & 0 & s_3\n",
    "    \\end{bmatrix}  \n",
    "$$\n",
    "\n",
    "$$\n",
    "\\begin{align*}\n",
    "  A &=\n",
    "    \\begin{bmatrix}\n",
    "    \\mathbf{u_1} & \\mathbf{u_2} & \\mathbf{u_3}\n",
    "    \\end{bmatrix}\n",
    "    \\begin{bmatrix}\n",
    "    s_1 & 0 & 0\\\\\n",
    "    0 & s_2 & 0\\\\\n",
    "    0 & 0 & s_3\n",
    "    \\end{bmatrix} \n",
    "    \\begin{bmatrix}\n",
    "    \\mathbf{v_1}^T \\\\ \\mathbf{v_2}^T \\\\ \\mathbf{v_3}^T\n",
    "    \\end{bmatrix} \\\\\n",
    "    &=\n",
    "    \\mathbf{u_1} s_1 \\mathbf{v_1}^T + \\mathbf{u_2} s_2 \\mathbf{v_2}^T + \\mathbf{u_3} s_3 \\mathbf{v_3}^T \\\\\n",
    "\\end{align*}\n",
    "$$"
   ]
  },
  {
   "cell_type": "code",
   "execution_count": null,
   "metadata": {},
   "outputs": [],
   "source": [
    "# Execute this cell to load the notebook's style sheet, then ignore it\n",
    "from IPython.core.display import HTML\n",
    "css_file = '../style/custom.css'\n",
    "HTML(open(css_file, \"r\").read())"
   ]
  }
 ],
 "metadata": {
  "kernelspec": {
   "display_name": "Python 3",
   "language": "python",
   "name": "python3"
  },
  "language_info": {
   "codemirror_mode": {
    "name": "ipython",
    "version": 3
   },
   "file_extension": ".py",
   "mimetype": "text/x-python",
   "name": "python",
   "nbconvert_exporter": "python",
   "pygments_lexer": "ipython3",
   "version": "3.6.7"
  }
 },
 "nbformat": 4,
 "nbformat_minor": 2
}
