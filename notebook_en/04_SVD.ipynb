{
 "cells": [
  {
   "cell_type": "code",
   "execution_count": null,
   "metadata": {},
   "outputs": [],
   "source": [
    "import numpy\n",
    "%matplotlib inline\n",
    "from matplotlib import pyplot\n",
    "pyplot.rc('font', family='serif', size=5)"
   ]
  },
  {
   "cell_type": "code",
   "execution_count": null,
   "metadata": {},
   "outputs": [],
   "source": [
    "import sys\n",
    "sys.path.append('../scripts/')\n",
    "\n",
    "# Our helper\n",
    "from plot_helper import *"
   ]
  },
  {
   "cell_type": "markdown",
   "metadata": {},
   "source": [
    "In the previous notebook, we visually explained what are eigenvectors and eigenvalues, and we can use `numpy.linalg.eig()` to solve for the eigenpairs. Take $\\,A = \\begin{bmatrix} 1 & 2 \\\\ 2 & 1 \\end{bmatrix}$ as an example."
   ]
  },
  {
   "cell_type": "code",
   "execution_count": null,
   "metadata": {},
   "outputs": [],
   "source": [
    "A = numpy.array([[1,2], [2,1]])\n",
    "d, C = numpy.linalg.eig(A)\n",
    "for eigenvalue, eigenvector in zip(d, C.T):\n",
    "    print(eigenvalue, eigenvector)"
   ]
  },
  {
   "cell_type": "markdown",
   "metadata": {},
   "source": [
    "$d$ is an array of eigenvalues and each column of $C$ represents a normalized eigenvector of matrix $A$. We can decompose the matrix as $A = C\\, D\\, C^{-1}$ where $D$ is the diagonal matrix of $d$. Let us draw both eigenvectors along with this linear transformation using `plot_linear_transformation()`, and set `unit_circle=True` to show the unit circle and `unit_vector=False` to hide the unit vectors."
   ]
  },
  {
   "cell_type": "code",
   "execution_count": null,
   "metadata": {},
   "outputs": [],
   "source": [
    "plot_linear_transformation(A, C[:,0], C[:,1], unit_vector=False, unit_circle=True)"
   ]
  },
  {
   "cell_type": "markdown",
   "metadata": {},
   "source": [
    "The eigenvectors (in pink and dark blue) of $A$ will not change their directions after the transformation of $A$. Since $A$ is symmetric, the transformed eigenvectors happen to be the semi-axes of the transformed unit circle.\n",
    "\n",
    "If we look at a general case where $A$ is an asymmetric matrix, say $\\,A = \\begin{bmatrix} 1 & 0 \\\\ 1 & 3 \\end{bmatrix}$, we will observe that the transformed eigenvectors still keep their original directions, however, they no longer coincide with the semi-axes of the ellipse, as the plot demonstrated below. "
   ]
  },
  {
   "cell_type": "code",
   "execution_count": null,
   "metadata": {},
   "outputs": [],
   "source": [
    "A = numpy.array([[1,0], [1,3]])\n",
    "d, C = numpy.linalg.eig(A)\n",
    "plot_linear_transformation(A, C[:,0], C[:,1], unit_vector=False, unit_circle=True)"
   ]
  },
  {
   "cell_type": "markdown",
   "metadata": {},
   "source": [
    "Then, how could we find the vectors that correspond to the semi-axes of the ellipse? They are intriguing because they are the most stretched or most shrunk vectors after the transformation. Similar to what we've done before, we calculate the maximum and minimum distance from the origin to the ellipse. The longest vector between them is the semi-major axis, the shortest one is the semi-minor axis."
   ]
  },
  {
   "cell_type": "code",
   "execution_count": null,
   "metadata": {},
   "outputs": [],
   "source": [
    "alpha = numpy.linspace(0, 2*numpy.pi, 201)\n",
    "circle = numpy.vstack((numpy.cos(alpha), numpy.sin(alpha)))\n",
    "ellipse = A @ circle    # 2 by 41 ndarray\n",
    "distance = numpy.linalg.norm(ellipse, axis=0)\n",
    "major_id = numpy.argmax(distance)\n",
    "minor_id = numpy.argmin(distance)\n",
    "major = ellipse[:, major_id]\n",
    "minor = ellipse[:, minor_id]\n",
    "print(major, numpy.linalg.norm(major))\n",
    "print(minor, numpy.linalg.norm(minor))"
   ]
  },
  {
   "cell_type": "markdown",
   "metadata": {},
   "source": [
    "Recall that `major` and `minor` are transformed vectors which had a unit length before the transformation. To use our plotting function `plot_linear_transformation` to visualize them, we need to pass in the corresponding `major` and `minor` vectors *before* the transformation. We name them `major_before` and `minor_before`."
   ]
  },
  {
   "cell_type": "code",
   "execution_count": null,
   "metadata": {},
   "outputs": [],
   "source": [
    "A_inv = numpy.linalg.inv(A)\n",
    "major_before = A_inv @ major\n",
    "minor_before = A_inv @ minor"
   ]
  },
  {
   "cell_type": "markdown",
   "metadata": {},
   "source": [
    "We can finally plot the semi-axes now. Notice that we do not need to plot eigenvectors this time."
   ]
  },
  {
   "cell_type": "code",
   "execution_count": null,
   "metadata": {},
   "outputs": [],
   "source": [
    "plot_linear_transformation(A, major_before, minor_before,\n",
    "                           unit_vector=False, unit_circle=True)"
   ]
  },
  {
   "cell_type": "markdown",
   "metadata": {},
   "source": [
    "We all know that the major and minor axes of an ellipse are orthogonal (perpendicular to each other), however, to our surprise, their corresponding vectors `major_before` and `minor_before`, which land on the original unit circle, appear to be orthogonal as well. We can use inner product `numpy.dot()` to confirm."
   ]
  },
  {
   "cell_type": "code",
   "execution_count": null,
   "metadata": {},
   "outputs": [],
   "source": [
    "print(major.dot(minor))\n",
    "print(major_before.dot(minor_before))"
   ]
  },
  {
   "cell_type": "markdown",
   "metadata": {},
   "source": [
    "If we use $\\mathbf{u_1}, \\mathbf{u_2}$ to denote the *normalized* `major` and `minor` vectors, use $\\mathbf{s_1}, \\mathbf{s_2}$ to denote the lengths of `major` and `minor`, and use $\\mathbf{v_1}, \\mathbf{v_2}$ to denote `major_before` and `minor_before` (they are normalized already since they land on the unit circle), we can formulate the observation above as:\n",
    "\n",
    "$$\n",
    "\\begin{align*}\n",
    "  A \\mathbf{v_1} = s_1 \\mathbf{u_1} \\\\\n",
    "  A \\mathbf{v_2} = s_2 \\mathbf{u_2}\n",
    "\\end{align*}\n",
    "$$\n",
    "\n",
    "Stacking two equations together:\n",
    "\n",
    "$$\n",
    "  A \\begin{bmatrix}\n",
    "    \\mathbf{v_1} & \\mathbf{v_2}\n",
    "    \\end{bmatrix}\n",
    "    =\n",
    "    \\begin{bmatrix}\n",
    "    \\mathbf{u_1} & \\mathbf{u_2}\n",
    "    \\end{bmatrix}\n",
    "    \\begin{bmatrix}\n",
    "    s_1 & 0 \\\\\n",
    "    0 & s_2\n",
    "    \\end{bmatrix}  \n",
    "$$\n",
    "\n",
    "Using $V$ to denote $\\begin{bmatrix} \\mathbf{v_1} & \\mathbf{v_2} \\end{bmatrix}$, $U$ to denote $\\begin{bmatrix} \\mathbf{u_1} & \\mathbf{u_2} \\end{bmatrix}$ and $S$ to denote the diagonal scaling matrix, it becomes:\n",
    "\n",
    "$$\n",
    "  A\\, V = U\\, S\n",
    "$$\n",
    "\n",
    "then right-multiply by $V^{-1}$ on both sides:\n",
    "\n",
    "$$\n",
    "  A = U\\, S\\, V^{-1}\n",
    "$$\n",
    "\n",
    "Since $\\mathbf{v_1}, \\mathbf{v_2}$ are orthogonal unit vectors, the matrix $V$ is an orthogonal matrix. (Recall what is an orthogonal matrix from the previous notebook) Thus, $V^T = V^{-1}$, the equation can also be written as:\n",
    "\n",
    "$$\n",
    "  A = U\\, S\\, V^{T}\n",
    "$$\n",
    "\n",
    "Starting from discovering the semi-axes of the transformed unit circle, we finally arrive at another neat decomposition of the matrix $A$ - singular value decomposition (SVD). The columns of $U$ are called left singular vectors, the columns of $V$ are called right singular vectors, and the diagonal elements of $S$ are singular values.\n",
    "\n",
    "Let us build these matrices first."
   ]
  },
  {
   "cell_type": "code",
   "execution_count": null,
   "metadata": {},
   "outputs": [],
   "source": [
    "s1 = numpy.linalg.norm(major)\n",
    "s2 = numpy.linalg.norm(minor)\n",
    "S = numpy.diag([s1, s2])\n",
    "print(S)"
   ]
  },
  {
   "cell_type": "code",
   "execution_count": null,
   "metadata": {},
   "outputs": [],
   "source": [
    "u1 = major / s1\n",
    "u2 = minor / s2\n",
    "U = numpy.transpose(numpy.vstack((u1,u2)))\n",
    "print(U)"
   ]
  },
  {
   "cell_type": "code",
   "execution_count": null,
   "metadata": {},
   "outputs": [],
   "source": [
    "v1 = major_before\n",
    "v2 = minor_before\n",
    "VT = numpy.vstack((v1,v2))\n",
    "print(VT)"
   ]
  },
  {
   "cell_type": "markdown",
   "metadata": {},
   "source": [
    "We can retrieve matrix $A$ by multiplying them together."
   ]
  },
  {
   "cell_type": "code",
   "execution_count": null,
   "metadata": {},
   "outputs": [],
   "source": [
    "U @ S @ VT"
   ]
  },
  {
   "cell_type": "markdown",
   "metadata": {},
   "source": [
    "From the previous notebook, we know that an orthogonal matrix ($U$ and $V$) implies a rotation transformation while a diagonal matrix ($S$) implies a scaling transformation. Let us visualize each component in the SVD. We also draw the unit vectors after each transformation this time."
   ]
  },
  {
   "cell_type": "code",
   "execution_count": null,
   "metadata": {},
   "outputs": [],
   "source": [
    "plot_linear_transformations(VT, S, U, unit_circle=True)"
   ]
  },
  {
   "cell_type": "markdown",
   "metadata": {},
   "source": [
    "The matrix $V^T$ first \"rotates\" the unit circle, then the diagonal matrix $S$ \"stretches\" the unit circle in both $x$-axis and $y$-axis directions into an ellipse, finally the matrix $U$ \"rotates\" this ellipse to a new direction. Therefore, the linear transformation of matrix $A$ can be viewed as a combination of rotation and scaling."
   ]
  },
  {
   "cell_type": "markdown",
   "metadata": {},
   "source": [
    "## Compute SVD in Python\n",
    "\n",
    "You can compute the SVD of a matrix using [`numpy.linalg.svd()`](https://docs.scipy.org/doc/numpy/reference/generated/numpy.linalg.svd.html). It returns a tuple: its first element is a 2D array where each column is a left singular vector, its second element is an array with the singular values, and its third element is a 2D array where each row is a right singular vector."
   ]
  },
  {
   "cell_type": "code",
   "execution_count": null,
   "metadata": {},
   "outputs": [],
   "source": [
    "U, S, VT = numpy.linalg.svd(A)"
   ]
  },
  {
   "cell_type": "markdown",
   "metadata": {},
   "source": [
    "Let us loop over each pair of singular values and singular vectors, print them out."
   ]
  },
  {
   "cell_type": "code",
   "execution_count": null,
   "metadata": {},
   "outputs": [],
   "source": [
    "for u, s, v in zip(U.T, S, VT):\n",
    "    print(s, u, v)"
   ]
  },
  {
   "cell_type": "markdown",
   "metadata": {},
   "source": [
    "We can use [`numpy.allclose()`](https://docs.scipy.org/doc/numpy/reference/generated/numpy.allclose.html) to confirm that the decomposition is close enough to the matrix $A$."
   ]
  },
  {
   "cell_type": "code",
   "execution_count": null,
   "metadata": {},
   "outputs": [],
   "source": [
    "A_decomp = U @ numpy.diag(S) @ VT\n",
    "print(A_decomp)\n",
    "print(numpy.allclose(A, A_decomp))"
   ]
  },
  {
   "cell_type": "markdown",
   "metadata": {},
   "source": [
    "As we discussed before, a $3 \\times 3$ matrix represents a linear transformation in 3D. We can also apply SVD to it using `numpy` built-in function and visualize each component. The linear transformation is a composition of a rotation, a scaling and another rotation transformation."
   ]
  },
  {
   "cell_type": "code",
   "execution_count": null,
   "metadata": {},
   "outputs": [],
   "source": [
    "A = numpy.array([[1,2,3], [1,1,1], [-1,1,0]])\n",
    "U, S, VT = numpy.linalg.svd(A)\n",
    "plot_3d_linear_transformations(VT, numpy.diag(S), U, unit_sphere=True)"
   ]
  },
  {
   "cell_type": "markdown",
   "metadata": {},
   "source": [
    "### Rank-deficient matrix"
   ]
  },
  {
   "cell_type": "markdown",
   "metadata": {},
   "source": [
    "In the second notebook, we introduced the rank of a matrix, the dimension of the vector space spanned by the columns of a matrix. It also describes the number of linearly independent columns of a matrix. When the rank of a matrix does not match the number of columns, the matrix is called *rank-deficient*.\n",
    "\n",
    "The matrix $N = \\begin{bmatrix} 1 & 2 & 7 \\\\\n",
    "                                0 & 1 & 3 \\\\\n",
    "                                -3 & 1 & 0 \\end{bmatrix} $ has rank 2. Plotting this information below, you will find that all the 3d grid lines collapse on a 2d plane."
   ]
  },
  {
   "cell_type": "code",
   "execution_count": null,
   "metadata": {},
   "outputs": [],
   "source": [
    "N = numpy.array([[1,2,7], [0,1,3], [-3,1,0]])\n",
    "plot_3d_linear_transformation(N)"
   ]
  },
  {
   "cell_type": "markdown",
   "metadata": {},
   "source": [
    "With the help of SVD, now we could look at this rank-deficient matrix from a different perspective. Let's plot each component of SVD and turn on `unit_sphere`."
   ]
  },
  {
   "cell_type": "code",
   "execution_count": null,
   "metadata": {},
   "outputs": [],
   "source": [
    "U, S, VT = numpy.linalg.svd(N)\n",
    "plot_3d_linear_transformations(VT, numpy.diag(S), U, unit_sphere=True)"
   ]
  },
  {
   "cell_type": "markdown",
   "metadata": {},
   "source": [
    "The second transformation squishes the unit sphere into an ellipse on the plane $z=0$. Since each singular value describes the scaling ratio along the corresponding axis, what we observed implies that the third singular value, corresponding to $z$-axis, is zero. Let's print out the singular values to verify."
   ]
  },
  {
   "cell_type": "code",
   "execution_count": null,
   "metadata": {},
   "outputs": [],
   "source": [
    "print(S)"
   ]
  },
  {
   "cell_type": "markdown",
   "metadata": {},
   "source": [
    "For a $3 \\times 3$ matrix, the number of nonzero singular values determines the dimensionality of the unit sphere after the transformation. If the matrix is full-rank, the transformed shape is an ellipsoid; if it has rank 2, the transformed shape is an ellipse; if it has rank 1, the transformed shape is a line segment. We can generalize this property to higher dimensions as follows:\n",
    "\n",
    "##### Key idea:\n",
    "\n",
    "> The number of nonzero singular values of square matrix $A$ equals to its rank.\n",
    "\n",
    "##### Challenge:\n",
    "\n",
    "> Check the singular values of a rank-1 matrix."
   ]
  },
  {
   "cell_type": "markdown",
   "metadata": {},
   "source": [
    "For a $n \\times n$ matrix, SVD can be written as:\n",
    "\n",
    "$$\n",
    "  A \n",
    "    =\n",
    "    \\begin{bmatrix}\n",
    "    \\mathbf{u_1} & \\mathbf{u_2} & \\dots & \\mathbf{u_n}\n",
    "    \\end{bmatrix}\n",
    "    \\begin{bmatrix}\n",
    "    s_1 & 0 & \\dots & 0 \\\\\n",
    "    0 & s_2 & \\dots & 0 \\\\\n",
    "    \\vdots & \\vdots & & \\vdots \\\\\n",
    "    0 & 0 & \\dots & s_n\n",
    "    \\end{bmatrix}   \n",
    "    \\begin{bmatrix}\n",
    "    \\mathbf{v_1}^T \\\\\n",
    "    \\mathbf{v_2}^T \\\\\n",
    "    \\vdots \\\\\n",
    "    \\mathbf{v_n}^T\n",
    "    \\end{bmatrix}\n",
    "$$\n",
    "\n",
    "When a matrix is rank-deficient with rank $k$, only $k$ singular values are non-zero, the decomposition can be truncated as:\n",
    "\n",
    "$$\n",
    "  A \n",
    "    =\n",
    "    \\begin{bmatrix}\n",
    "    \\mathbf{u_1} & \\mathbf{u_2} & \\dots & \\mathbf{u_k}\n",
    "    \\end{bmatrix}\n",
    "    \\begin{bmatrix}\n",
    "    s_1 & 0 & \\dots & 0 \\\\\n",
    "    0 & s_2 & \\dots & 0 \\\\\n",
    "    \\vdots & \\vdots & & \\vdots \\\\\n",
    "    0 & 0 & \\dots & s_k\n",
    "    \\end{bmatrix}   \n",
    "    \\begin{bmatrix}\n",
    "    \\mathbf{v_1}^T \\\\\n",
    "    \\mathbf{v_2}^T \\\\\n",
    "    \\vdots \\\\\n",
    "    \\mathbf{v_k}^T\n",
    "    \\end{bmatrix}\n",
    "$$\n",
    "\n",
    "Only the first $k$ singular vectors are needed because the singular values of the rest singular vectors are zero. In a geometrical view, if a vector's component along an axis is squished to zero, it does not matter how you rotate that component to other axes.\n",
    "\n",
    "In the example above, the $3 \\times 3$ matrix $N$ has rank 2."
   ]
  },
  {
   "cell_type": "code",
   "execution_count": null,
   "metadata": {},
   "outputs": [],
   "source": [
    "k = numpy.linalg.matrix_rank(N)\n",
    "print(k)"
   ]
  },
  {
   "cell_type": "markdown",
   "metadata": {},
   "source": [
    "We can reconstruct $N$ with only the first two singular vectors and singular values:"
   ]
  },
  {
   "cell_type": "code",
   "execution_count": null,
   "metadata": {},
   "outputs": [],
   "source": [
    "U, S, VT = numpy.linalg.svd(N)\n",
    "N_k = U[:,:k] @ numpy.diag(S[:k]) @ VT[:k,:]\n",
    "print(N_k)\n",
    "print(numpy.allclose(N, N_k))"
   ]
  },
  {
   "cell_type": "markdown",
   "metadata": {},
   "source": [
    "This implies a great advantage of low-rank matrices: they can be stored and reconstructed inexpensively by stripping zero singular values and the corresponding singular vectors from SVD."
   ]
  },
  {
   "cell_type": "markdown",
   "metadata": {},
   "source": [
    "### Low Rank Approximation"
   ]
  },
  {
   "cell_type": "markdown",
   "metadata": {},
   "source": [
    "Though low-rank matrices are easier to work with, the matrices from real-world applications often are not in our favor. Take a look at the $4 \\times 4$ matrix\n",
    "$ A = \\begin{bmatrix} 1 & 2 & 3 & 6 \\\\\n",
    "                      2 & 5 & 7 & 10 \\\\\n",
    "                      3 & 9 & 12 & 14 \\\\\n",
    "                      4 & 7 & 9 & 15 \\end{bmatrix} $.\n",
    "Let's first check the rank of $A$."
   ]
  },
  {
   "cell_type": "code",
   "execution_count": null,
   "metadata": {},
   "outputs": [],
   "source": [
    "A = numpy.array([[1, 2, 3, 6],\n",
    "                 [2, 5, 7, 10],\n",
    "                 [3, 9, 12, 14],\n",
    "                 [4, 7, 9, 15]])\n",
    "print(numpy.linalg.matrix_rank(A))"
   ]
  },
  {
   "cell_type": "markdown",
   "metadata": {},
   "source": [
    "It is difficult to visualize this linear transformation with a plot, but we can gain some insight by doing SVD. All four singular values are non-zero, however, the last one is significantly smaller than others and close to zero, indicating that the \"4d unit sphere\" is almost stamped into a \"plane\" in that direction. In other words, it has full rank but is very close rank-deficient (with rank $3$)."
   ]
  },
  {
   "cell_type": "code",
   "execution_count": null,
   "metadata": {},
   "outputs": [],
   "source": [
    "U, S, VT = numpy.linalg.svd(A)\n",
    "print(S)"
   ]
  },
  {
   "cell_type": "markdown",
   "metadata": {},
   "source": [
    "Why not try to construct the matrix $A$ with the three largest singular values?"
   ]
  },
  {
   "cell_type": "code",
   "execution_count": null,
   "metadata": {},
   "outputs": [],
   "source": [
    "k = 3\n",
    "A_approx = U[:,:k] @ numpy.diag(S[:k]) @ VT[:k,:]\n",
    "print(A_approx)"
   ]
  },
  {
   "cell_type": "markdown",
   "metadata": {},
   "source": [
    "By dropping smaller singular values and their singular vectors in the decomposition, we arrive at a rank-$3$ approximation of matrix $A$."
   ]
  },
  {
   "cell_type": "markdown",
   "metadata": {},
   "source": [
    "### Image Compression"
   ]
  },
  {
   "cell_type": "code",
   "execution_count": null,
   "metadata": {},
   "outputs": [],
   "source": [
    "from imageio import imread, imwrite\n",
    "image = imread('../images/washington-monument.jpg')"
   ]
  },
  {
   "cell_type": "code",
   "execution_count": null,
   "metadata": {},
   "outputs": [],
   "source": [
    "print(type(image))\n",
    "print(image.shape)\n",
    "print(image.dtype)"
   ]
  },
  {
   "cell_type": "code",
   "execution_count": null,
   "metadata": {},
   "outputs": [],
   "source": [
    "pyplot.figure(figsize=(2,2))\n",
    "pyplot.imshow(image, cmap='gray');"
   ]
  },
  {
   "cell_type": "code",
   "execution_count": null,
   "metadata": {},
   "outputs": [],
   "source": [
    "U, S, VT = numpy.linalg.svd(image)\n",
    "print(U.shape, S.shape, VT.shape)"
   ]
  },
  {
   "cell_type": "code",
   "execution_count": null,
   "metadata": {},
   "outputs": [],
   "source": [
    "pyplot.figure(figsize=(2,2))\n",
    "pyplot.scatter(numpy.arange(len(S)), S, s=0.8)\n",
    "pyplot.yscale('log')\n",
    "pyplot.ylabel('singular value');"
   ]
  },
  {
   "cell_type": "code",
   "execution_count": null,
   "metadata": {},
   "outputs": [],
   "source": [
    "from ipywidgets import widgets, fixed"
   ]
  },
  {
   "cell_type": "code",
   "execution_count": null,
   "metadata": {},
   "outputs": [],
   "source": [
    "def approximate(k, u, s, vt, image):\n",
    "    u_k = u[:,:k]\n",
    "    s_k = s[:k]\n",
    "    vt_k = vt[:k,:]\n",
    "    copy = u_k @ numpy.diag(s_k) @ vt_k\n",
    "    diff = numpy.abs(image - copy)\n",
    "    fig = pyplot.figure(figsize=(4,2))\n",
    "    ax1 = pyplot.subplot(121)\n",
    "    ax1.imshow(copy, cmap='gray')\n",
    "    ax1.set_title('compressed image'.format(k))\n",
    "    ax2 = pyplot.subplot(122)\n",
    "    ax2.imshow(image, cmap='gray')\n",
    "    ax2.set_title('original image'.format(k))\n",
    "    \n",
    "    ratio = image.size / (u_k.size + s_k.size + vt_k.size)\n",
    "    fig.suptitle('$k = {}$, compression ratio = {:.2f}'.format(k, ratio))"
   ]
  },
  {
   "cell_type": "code",
   "execution_count": null,
   "metadata": {},
   "outputs": [],
   "source": [
    "slider = widgets.IntSlider(min=1, max=101, step=5)\n",
    "widgets.interact(approximate, k=slider, u=fixed(U),\n",
    "                 s=fixed(S), vt=fixed(VT), image=fixed(image));"
   ]
  },
  {
   "cell_type": "markdown",
   "metadata": {},
   "source": [
    "### Nonsquare matrix\n",
    "\n",
    "So far, we have only talked about square matrices. A $2\\times 2$ matrix transforms a 2D vector to another 2D vector, and a $3\\times 3$ matrix transforms a 3D vector to another 3D vector. What about the nonsquare ones, for example, a $3 \\times 2$ matrix $A =  \\begin{bmatrix} 1 & 0 \\\\ 1 & 1 \\\\ 2 & 3\\end{bmatrix}$ ?\n",
    "\n",
    "In the first lesson, we discussed that the matrix-vector multiplication $A\\mathbf{x}$ is a linear combination of the columns of $A$ scaled by the components of $\\mathbf{x}$. Since $A$ has two columns, $\\mathbf{x}$ should have two components. Each column of $A$ is a 3D vector, therefore, the linear combination of the columns $A\\mathbf{x}$ should also be a 3D vector. Yes, this matrix $A$ transforms a 2D vector into a 3D vector.\n",
    "\n",
    "If we use $\\mathbf{i}$ and $\\mathbf{j}$ to denote the standard basis vectors. The first column corresponds to the vector where $\\mathbf{i}$ lands after the transformation, and the second column is where $\\mathbf{j}$ lands:\n",
    "$$\n",
    "\\mathbf{i} = \\begin{bmatrix} 1 \\\\ 0 \\end{bmatrix}  \\Rightarrow  \\begin{bmatrix} 1 \\\\ 1 \\\\ 2 \\end{bmatrix} \\\\\n",
    "\\mathbf{j} = \\begin{bmatrix} 0 \\\\ 1 \\end{bmatrix}  \\Rightarrow  \\begin{bmatrix} 0 \\\\ 1 \\\\ 3 \\end{bmatrix}\n",
    "$$\n",
    "\n",
    "so a vector $\\mathbf{x} = \\begin{bmatrix} x \\\\ y \\end{bmatrix}$ will land in $ A\\mathbf{x} = x \\cdot \\begin{bmatrix} 1 \\\\ 1 \\\\ 2 \\end{bmatrix} + y \\cdot \\begin{bmatrix} 0 \\\\ 1 \\\\ 3 \\end{bmatrix}$.\n",
    "\n",
    "##### Key idea:\n",
    "\n",
    "> An $m\\times n$ nonsquare matrice transforms an $n$-dimensional vector to an $m$-dimensional vector.\n",
    "\n",
    "Matrix-matrix multiplication represents the composition of two linear transformations. For nonsquare matrices, we need to make sure that the dimension of the transformed vector of the previous transformation matches the dimension of the input vector of the next transformation. If matrix $A$ is $m\\times n$, matrix $B$ is $n\\times p$, the matrix product $AB$ is $m \\times p$."
   ]
  },
  {
   "cell_type": "markdown",
   "metadata": {},
   "source": [
    "### SVD in general"
   ]
  },
  {
   "cell_type": "markdown",
   "metadata": {},
   "source": [
    "In fact, SVD also exists for nonsquare matrices. An $m \\times n$ matrix $M$ can be factorized as:\n",
    "\n",
    "$$\n",
    "\\underset{m\\times n}M = \\underset{m\\times m}U\\,\\, \\underset{m\\times n}S\\,\\,\n",
    "\\underset{n\\times n}{V^T}\n",
    "$$\n",
    "\n",
    "$U$ and $V$ are orthogonal matrices, and they can treated as rotation transformations. $S$ is an $m \\times n$ rectangular diagonal matrix and still represents a scaling transformation, but in contrast to square matrices, $S$ now transforms an $n$-dimensional vector to an $m$-dimensional vector.\n",
    "\n",
    "We can use the same built in function `numpy.linalg.svd()` to decompose rectangular matrices. Take the following $3\\times 4$ matrix as an example:"
   ]
  },
  {
   "cell_type": "code",
   "execution_count": null,
   "metadata": {},
   "outputs": [],
   "source": [
    "M = numpy.array([[1, 3, 4, 4],\n",
    "                 [2, 5, 7, 10],\n",
    "                 [3, 4, -1, 0]], dtype=float)\n",
    "u, s, vt = numpy.linalg.svd(M)"
   ]
  },
  {
   "cell_type": "markdown",
   "metadata": {},
   "source": [
    "Let's check the shape of each component."
   ]
  },
  {
   "cell_type": "code",
   "execution_count": null,
   "metadata": {},
   "outputs": [],
   "source": [
    "print(u.shape, s.shape, vt.shape)"
   ]
  },
  {
   "cell_type": "markdown",
   "metadata": {},
   "source": [
    "The second return value `s` is a vector, it only keeps the diagonal elements of $S$. In the example above, we used `numpy.diag(s)` to construct $S$ of that square matrix. The same code won't work here because $S$ has to be a $3\\times 4$ matrix in this case, while `numpy.diag(s)` only creates a $3 \\times 3$ matrix. "
   ]
  },
  {
   "cell_type": "code",
   "execution_count": null,
   "metadata": {},
   "outputs": [],
   "source": [
    "u @ numpy.diag(s) @ vt"
   ]
  },
  {
   "cell_type": "markdown",
   "metadata": {},
   "source": [
    "To fix it, first we need to create $S$ with the correct shape using `numpy.zeros_like()`, then fill the diagonal with the singular values."
   ]
  },
  {
   "cell_type": "code",
   "execution_count": null,
   "metadata": {},
   "outputs": [],
   "source": [
    "S = numpy.zeros_like(M, dtype=float)\n",
    "S[:len(s), :len(s)] = numpy.diag(s)"
   ]
  },
  {
   "cell_type": "markdown",
   "metadata": {},
   "source": [
    "We can now reconstruct the rectangular matrix $M$ using the three components."
   ]
  },
  {
   "cell_type": "code",
   "execution_count": null,
   "metadata": {},
   "outputs": [],
   "source": [
    "u @ S @ vt"
   ]
  },
  {
   "cell_type": "markdown",
   "metadata": {},
   "source": [
    "### Pseudo-inverse"
   ]
  },
  {
   "cell_type": "markdown",
   "metadata": {},
   "source": [
    "From the previous notebook, we treat a matrix's inverse as the reverse linear transformation that brings the transformed vectors back to their original coordinates. So far, we have only considered square matrices, and only the ones with full rank have an inverse. What about the inverse of a rectangular matrix? Have a try using the built-in function `numpy.linalg.inv()`.\n",
    "\n",
    "\n",
    "The inverse of a nonsquare matrix does not exist. You can think of a nonsquare matrix as the coefficient matrix of a linear system of equations. Since the number of equations is not equal to the number of unknowns, there is no unique solution to the system, thus we cannot find the inverse of a nonsquare matrix.\n",
    "\n",
    "Despite lack of an inverse, nonsquare matrices do have a generalized form of inverse, called *pseudo-inverse*. It satisfies weaker conditions than the standard inverse and exists for all rectangular matrices. The idea of this generalized inverse is closed related to SVD. Given the SVD of an $m \\times n$ matrix $M = U \\, S\\, V^T$, the pseudo-inverse $M^+$ is defined as:\n",
    "\n",
    "$$\n",
    "\\underset{n\\times m}M^+ = \\underset{n\\times n}V \\,\\, \\underset{n\\times m}{S^+} \\,\\, \\underset{m\\times m}{U^T}\n",
    "$$\n",
    "\n",
    "where $S^+$ comes from $S$ by taking the reciprocal of the nonzero diagonal elements of $S$, all other elements in $S^+$ are zero. If the diagonal elements of $S$ are $(s_1, s_2, \\dots, s_r, 0, \\dots, 0)$, the diagonal elements of $S^+$ are $(\\frac{1}{s_1}, \\frac{1}{s_2}, \\dots, \\frac{1}{s_r}, 0, \\dots, 0)$, where $r$ denotes the number of nonzero singular values."
   ]
  },
  {
   "cell_type": "code",
   "execution_count": null,
   "metadata": {},
   "outputs": [],
   "source": [
    "M_inv @ M @ M_inv"
   ]
  },
  {
   "cell_type": "code",
   "execution_count": null,
   "metadata": {},
   "outputs": [],
   "source": [
    "M_inv = numpy.linalg.pinv(M)"
   ]
  },
  {
   "cell_type": "code",
   "execution_count": null,
   "metadata": {},
   "outputs": [],
   "source": [
    "M @ M_inv"
   ]
  },
  {
   "cell_type": "code",
   "execution_count": null,
   "metadata": {},
   "outputs": [],
   "source": [
    "M_inv"
   ]
  },
  {
   "cell_type": "markdown",
   "metadata": {},
   "source": [
    "### Linear Regression with SVD"
   ]
  },
  {
   "cell_type": "code",
   "execution_count": null,
   "metadata": {},
   "outputs": [],
   "source": [
    "from urllib.request import urlretrieve\n",
    "URL = 'http://go.gwu.edu/engcomp1data5?accessType=DOWNLOAD'\n",
    "fname = 'land_global_temperature_anomaly-1880-2016.csv'\n",
    "urlretrieve(URL, fname)"
   ]
  },
  {
   "cell_type": "code",
   "execution_count": null,
   "metadata": {},
   "outputs": [],
   "source": [
    "year, temp_anomaly = numpy.loadtxt(fname, delimiter=',', skiprows=5, unpack=True)"
   ]
  },
  {
   "cell_type": "code",
   "execution_count": null,
   "metadata": {},
   "outputs": [],
   "source": [
    "#You can set the size of the figure by doing:\n",
    "pyplot.figure(figsize=(3,2))\n",
    "\n",
    "#Plotting\n",
    "pyplot.plot(year, temp_anomaly, color='#2929a3', linestyle='-', linewidth=0.8) \n",
    "pyplot.title('Land global temperature anomalies.')\n",
    "pyplot.xlabel('Year')\n",
    "pyplot.ylabel('Land temperature anomaly [°C]')\n",
    "pyplot.grid();"
   ]
  },
  {
   "cell_type": "code",
   "execution_count": null,
   "metadata": {},
   "outputs": [],
   "source": [
    "# from sklearn.linear_model import LinearRegression\n",
    "# reg = LinearRegression().fit(year.reshape(-1,1), temp_anomaly)\n",
    "# #You can set the size of the figure by doing:\n",
    "# pyplot.figure(figsize=(3,2))\n",
    "\n",
    "# #Plotting\n",
    "# pyplot.plot(year, temp_anomaly, color='#2929a3', linestyle='-', linewidth=0.8)\n",
    "# pyplot.plot(year, reg.predict(year.reshape(-1,1)))\n",
    "# pyplot.title('Land global temperature anomalies.')\n",
    "# pyplot.xlabel('Year')\n",
    "# pyplot.ylabel('Land temperature anomaly [°C]')\n",
    "# pyplot.grid();"
   ]
  },
  {
   "cell_type": "code",
   "execution_count": null,
   "metadata": {},
   "outputs": [],
   "source": [
    "A = numpy.zeros((137,2))\n",
    "A[:,0] = 1\n",
    "A[:,1] = year"
   ]
  },
  {
   "cell_type": "code",
   "execution_count": null,
   "metadata": {},
   "outputs": [],
   "source": [
    "U, S, VT = numpy.linalg.svd(A)\n",
    "print(U.shape, S.shape, VT.shape)"
   ]
  },
  {
   "cell_type": "code",
   "execution_count": null,
   "metadata": {},
   "outputs": [],
   "source": [
    "S_inv = numpy.zeros((2, 137))\n",
    "S_inv[:2, :2] = numpy.diag(1/S)"
   ]
  },
  {
   "cell_type": "code",
   "execution_count": null,
   "metadata": {},
   "outputs": [],
   "source": [
    "A_inv = VT.T @ S_inv @ U.T"
   ]
  },
  {
   "cell_type": "code",
   "execution_count": null,
   "metadata": {},
   "outputs": [],
   "source": [
    "b, k = A_inv @ temp_anomaly"
   ]
  },
  {
   "cell_type": "code",
   "execution_count": null,
   "metadata": {},
   "outputs": [],
   "source": [
    "#You can set the size of the figure by doing:\n",
    "pyplot.figure(figsize=(3,2))\n",
    "\n",
    "#Plotting\n",
    "pyplot.plot(year, temp_anomaly, color='#2929a3', linestyle='-', linewidth=0.5)\n",
    "#pyplot.plot(year, reg.predict(year.reshape(-1,1)), linestyle='-.', linewidth=0.5)\n",
    "pyplot.plot(year, b + k*year, linestyle='--', linewidth=0.5)\n",
    "pyplot.title('Land global temperature anomalies.')\n",
    "pyplot.xlabel('Year')\n",
    "pyplot.ylabel('Land temperature anomaly [°C]')\n",
    "pyplot.grid();"
   ]
  },
  {
   "cell_type": "code",
   "execution_count": null,
   "metadata": {},
   "outputs": [],
   "source": [
    "# Execute this cell to load the notebook's style sheet, then ignore it\n",
    "from IPython.core.display import HTML\n",
    "css_file = '../style/custom.css'\n",
    "HTML(open(css_file, \"r\").read())"
   ]
  },
  {
   "cell_type": "code",
   "execution_count": null,
   "metadata": {},
   "outputs": [],
   "source": []
  }
 ],
 "metadata": {
  "kernelspec": {
   "display_name": "Python 3",
   "language": "python",
   "name": "python3"
  },
  "language_info": {
   "codemirror_mode": {
    "name": "ipython",
    "version": 3
   },
   "file_extension": ".py",
   "mimetype": "text/x-python",
   "name": "python",
   "nbconvert_exporter": "python",
   "pygments_lexer": "ipython3",
   "version": "3.6.7"
  }
 },
 "nbformat": 4,
 "nbformat_minor": 2
}
